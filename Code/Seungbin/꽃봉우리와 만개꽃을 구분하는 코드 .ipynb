{
 "cells": [
  {
   "cell_type": "code",
   "execution_count": 8,
   "id": "47bc95e9",
   "metadata": {},
   "outputs": [
    {
     "name": "stdout",
     "output_type": "stream",
     "text": [
      "9093\n",
      "Tomato Farm Number 1: 2452\n",
      "Tomato Farm Number 2: 1724\n",
      "Tomato Farm Number 3: 2311\n",
      "Tomato Farm Number 4: 830\n",
      "Tomato Farm Number 5: 970\n",
      "Tomato Farm Number 6: 806\n"
     ]
    }
   ],
   "source": [
    "import cv2\n",
    "import os\n",
    "import matplotlib.pyplot as plt\n",
    "\n",
    "folder_path = \".\\\\data_for_yolo\\\\data\\\\train\\\\images\"\n",
    "labels_path = \".\\\\data_for_yolo\\\\data\\\\train\\\\labels\"\n",
    "\n",
    "image_files = [f for f in os.listdir(folder_path) if f.endswith('.png') and ('d1' in f or 'd2' in f)]\n",
    "\n",
    "print(len(image_files))\n",
    "\n",
    "for i in range(1,7):\n",
    "    image_files = [f for f in os.listdir(folder_path) if f.endswith('.png') and f'tom{i}' in f and ('d1' in f or 'd2' in f)]\n",
    "    print(f\"Tomato Farm Number {i}: {len(image_files)}\")"
   ]
  },
  {
   "cell_type": "code",
   "execution_count": null,
   "id": "0b10f53c",
   "metadata": {},
   "outputs": [],
   "source": [
    "import cv2\n",
    "import os\n",
    "import matplotlib.pyplot as plt\n",
    "import matplotlib.patches as patches\n",
    "\n",
    "folder_path = \".\\\\data_for_yolo\\\\data\\\\train\\\\images\"\n",
    "labels_path = \".\\\\data_for_yolo\\\\data\\\\train\\\\labels\"\n",
    "\n",
    "def parse_yolo_coordinates(yolo_str):\n",
    "    parts = yolo_str.split()\n",
    "    return int(parts[0]), float(parts[1]), float(parts[2]), float(parts[3]), float(parts[4])\n",
    "\n",
    "def change_class_id(yolo_str, new_class_id):\n",
    "    parts = yolo_str.split()\n",
    "    parts[0] = str(new_class_id)\n",
    "    return ' '.join(parts)\n",
    "\n",
    "image_files = [f for f in os.listdir(folder_path) if f.endswith('.png') and ('d1' in f or 'd2' in f)]\n",
    "\n",
    "resume_file = 'V001_tom1_40_033_d1_09_20211007_15_05140600_40158887.png'\n",
    "if resume_file in image_files:\n",
    "    idx = image_files.index(resume_file)\n",
    "    image_files = image_files[idx:]\n",
    "\n",
    "for img_name in image_files:\n",
    "    img_path = os.path.join(folder_path, img_name)\n",
    "    txt_path = os.path.join(labels_path, img_name.replace('.png', '.txt'))\n",
    "\n",
    "    image = cv2.imread(img_path)\n",
    "    image = cv2.cvtColor(image, cv2.COLOR_BGR2RGB)\n",
    "\n",
    "    img_width, img_height = 1080, 1920\n",
    "\n",
    "    with open(txt_path, 'r') as file:\n",
    "        yolo_strs = file.readlines()\n",
    "\n",
    "    for idx, yolo_str in enumerate(yolo_strs):\n",
    "        fig, ax = plt.subplots(1, figsize=(12, 12))\n",
    "        ax.imshow(image)\n",
    "\n",
    "        class_id, x, y, w, h = parse_yolo_coordinates(yolo_str)\n",
    "        x, y, w, h = x * img_width, y * img_height, w * img_width, h * img_height\n",
    "        bbox = patches.Rectangle((x - w / 2, y - h / 2), w, h, linewidth=1, edgecolor='r', facecolor='none')\n",
    "\n",
    "        ax.add_patch(bbox)\n",
    "        \n",
    "        plt.pause(0.01)\n",
    "        plt.show()\n",
    "        answer = input(f\"Do you want to change class id of object {idx} in image {img_name}? (y/n): \")\n",
    "        if answer.lower() == 'y':\n",
    "            yolo_strs[idx] = change_class_id(yolo_strs[idx], '1') + \"\\n\"\n",
    "        \n",
    "        plt.close()\n",
    "\n",
    "    with open(txt_path, 'w') as file:\n",
    "        file.writelines(yolo_strs)\n",
    "\n",
    "print(\"Finished\")"
   ]
  }
 ],
 "metadata": {
  "kernelspec": {
   "display_name": "Python 3 (ipykernel)",
   "language": "python",
   "name": "python3"
  },
  "language_info": {
   "codemirror_mode": {
    "name": "ipython",
    "version": 3
   },
   "file_extension": ".py",
   "mimetype": "text/x-python",
   "name": "python",
   "nbconvert_exporter": "python",
   "pygments_lexer": "ipython3",
   "version": "3.9.13"
  }
 },
 "nbformat": 4,
 "nbformat_minor": 5
}
