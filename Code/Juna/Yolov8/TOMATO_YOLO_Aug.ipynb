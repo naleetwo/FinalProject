{
 "cells": [
  {
   "cell_type": "code",
   "execution_count": 2,
   "id": "87e2318d-d714-49bc-b51b-655daaa36891",
   "metadata": {},
   "outputs": [],
   "source": [
    "from datetime import datetime\n",
    "\n",
    "from PIL import Image\n",
    "import matplotlib.pyplot as plt\n",
    "import matplotlib.patches as patches\n",
    "from tqdm import tqdm\n",
    "import os\n",
    "import json\n",
    "import pandas as pd\n",
    "\n",
    "\n",
    "import matplotlib as mlp\n",
    "import matplotlib.font_manager as fm\n",
    "font_name = fm.FontProperties(fname = \"C:/Windows/Fonts/malgun.ttf\").get_name()\n",
    "plt.rc(\"font\", family = font_name)\n",
    "mlp.rcParams[\"axes.unicode_minus\"] = False"
   ]
  },
  {
   "cell_type": "code",
   "execution_count": null,
   "id": "cbfab99a-82c5-405a-b1c5-b15609387cd8",
   "metadata": {},
   "outputs": [],
   "source": []
  },
  {
   "cell_type": "code",
   "execution_count": null,
   "id": "b36ce86e-720d-4363-8e92-2c0d88a9633d",
   "metadata": {},
   "outputs": [],
   "source": []
  },
  {
   "cell_type": "code",
   "execution_count": 60,
   "id": "7ea2295b-0cf7-4c39-a9ec-bcd86b80921e",
   "metadata": {},
   "outputs": [],
   "source": [
    "# yolo class 선정하기 전, 데이터 확인"
   ]
  },
  {
   "cell_type": "code",
   "execution_count": 61,
   "id": "19cc6629-ed9a-41f5-9c6e-9606c5db042b",
   "metadata": {
    "tags": []
   },
   "outputs": [],
   "source": [
    "# train 정상"
   ]
  },
  {
   "cell_type": "code",
   "execution_count": null,
   "id": "76c7d7ff-7157-4366-945b-05dc60f5197f",
   "metadata": {},
   "outputs": [],
   "source": [
    "train_fine = pd.read_csv(\"C:/juna27/PythonWork/AI/data/tomato_label/tomato_set/[라벨]11.토마토_0.정상(training).csv\")"
   ]
  },
  {
   "cell_type": "code",
   "execution_count": 51,
   "id": "bae25d71-d191-4cee-aeee-6b00814e644e",
   "metadata": {},
   "outputs": [
    {
     "data": {
      "text/plain": [
       "array([ 0, 11], dtype=int64)"
      ]
     },
     "execution_count": 51,
     "metadata": {},
     "output_type": "execute_result"
    }
   ],
   "source": [
    "train_fine.disease.unique()"
   ]
  },
  {
   "cell_type": "code",
   "execution_count": 84,
   "id": "d0f973eb-9e25-476d-aa58-a504d7c1774f",
   "metadata": {},
   "outputs": [
    {
     "data": {
      "text/plain": [
       "(0     13508\n",
       " 11        1\n",
       " Name: disease, dtype: int64,\n",
       " 13509)"
      ]
     },
     "execution_count": 84,
     "metadata": {},
     "output_type": "execute_result"
    }
   ],
   "source": [
    "train_fine[\"disease\"].value_counts(), len(train_fine)"
   ]
  },
  {
   "cell_type": "code",
   "execution_count": 116,
   "id": "bf51d9c6-485a-4c2d-bf40-82991d0328ef",
   "metadata": {},
   "outputs": [],
   "source": [
    "# train_fine[train_fine[\"disease\"].isin([0])].to_csv(\"C:/juna27/PythonWork/AI/data/tomato_label/tomato_set/[라벨]토마토_정상_train.csv\", encoding=\"utf-8-sig\", index=False)"
   ]
  },
  {
   "cell_type": "code",
   "execution_count": 92,
   "id": "a8f70541-cbbc-4f6e-bfad-9c0420e127af",
   "metadata": {},
   "outputs": [
    {
     "data": {
      "text/plain": [
       "1330    V006_77_0_00_11_01_13_0_c07_20201202_0068_S01_...\n",
       "Name: image, dtype: object"
      ]
     },
     "execution_count": 92,
     "metadata": {},
     "output_type": "execute_result"
    }
   ],
   "source": [
    "train_fine[~train_fine[\"disease\"].isin([0])].image"
   ]
  },
  {
   "cell_type": "code",
   "execution_count": null,
   "id": "3d9752c5-edc5-47fa-846e-b2c7815cd049",
   "metadata": {},
   "outputs": [],
   "source": []
  },
  {
   "cell_type": "code",
   "execution_count": null,
   "id": "03523d90-7035-4755-abf0-ba7e8bbf19da",
   "metadata": {},
   "outputs": [],
   "source": []
  },
  {
   "cell_type": "code",
   "execution_count": 62,
   "id": "79be283c-7d39-4b4d-b280-f58739ff5e59",
   "metadata": {
    "tags": []
   },
   "outputs": [],
   "source": [
    "# val 정상"
   ]
  },
  {
   "cell_type": "code",
   "execution_count": 63,
   "id": "0e5c5c93-062c-4c66-8df5-5c982c4212fc",
   "metadata": {},
   "outputs": [],
   "source": [
    "val_fine = pd.read_csv(\"C:/juna27/PythonWork/AI/data/tomato_label/tomato_set/[라벨]11.토마토_0.정상(validation).csv\")"
   ]
  },
  {
   "cell_type": "code",
   "execution_count": 118,
   "id": "7bfd8a89-52ed-4ca5-afe6-73808eba591d",
   "metadata": {},
   "outputs": [],
   "source": [
    "# val_fine.to_csv(\"C:/juna27/PythonWork/AI/data/tomato_label/tomato_set/[라벨]토마토_정상_val.csv\", encoding=\"utf-8-sig\", index=False)"
   ]
  },
  {
   "cell_type": "code",
   "execution_count": 64,
   "id": "855d7b3f-afa8-4994-b05a-5edcbca922e7",
   "metadata": {},
   "outputs": [
    {
     "data": {
      "text/plain": [
       "array([0], dtype=int64)"
      ]
     },
     "execution_count": 64,
     "metadata": {},
     "output_type": "execute_result"
    }
   ],
   "source": [
    "val_fine.disease.unique()"
   ]
  },
  {
   "cell_type": "code",
   "execution_count": 65,
   "id": "d91bc4d0-0d49-4249-8c4b-b3d1259bdf95",
   "metadata": {},
   "outputs": [
    {
     "data": {
      "text/plain": [
       "0    4423\n",
       "Name: disease, dtype: int64"
      ]
     },
     "execution_count": 65,
     "metadata": {},
     "output_type": "execute_result"
    }
   ],
   "source": [
    "val_fine[\"disease\"].value_counts()"
   ]
  },
  {
   "cell_type": "code",
   "execution_count": null,
   "id": "c6dc1f7b-978a-4d2f-81c1-502f12364a57",
   "metadata": {},
   "outputs": [],
   "source": []
  },
  {
   "cell_type": "code",
   "execution_count": null,
   "id": "135c5058-7c23-41ec-8ba2-7dcc70217d00",
   "metadata": {},
   "outputs": [],
   "source": []
  },
  {
   "cell_type": "code",
   "execution_count": 70,
   "id": "be09ef04-2a23-4ad2-bf85-dbead69e3241",
   "metadata": {
    "tags": []
   },
   "outputs": [],
   "source": [
    "# train 질병"
   ]
  },
  {
   "cell_type": "code",
   "execution_count": 53,
   "id": "8395870c-c582-4cbb-a4eb-f6fa73d2583d",
   "metadata": {},
   "outputs": [],
   "source": [
    "train_disease = pd.read_csv(\"C:/juna27/PythonWork/AI/data/tomato_label/tomato_set/[라벨]11.토마토_1.질병(training).csv\")"
   ]
  },
  {
   "cell_type": "code",
   "execution_count": 57,
   "id": "de7253d0-7511-497b-b827-4f2741a6be39",
   "metadata": {},
   "outputs": [
    {
     "data": {
      "text/plain": [
       "array([18,  1, 19,  3, 15], dtype=int64)"
      ]
     },
     "execution_count": 57,
     "metadata": {},
     "output_type": "execute_result"
    }
   ],
   "source": [
    "train_disease.disease.unique()"
   ]
  },
  {
   "cell_type": "code",
   "execution_count": 58,
   "id": "8f80f526-37da-415e-8b7b-4c1779ff244c",
   "metadata": {},
   "outputs": [
    {
     "data": {
      "text/plain": [
       "19    1118\n",
       "18     846\n",
       "1        1\n",
       "3        1\n",
       "15       1\n",
       "Name: disease, dtype: int64"
      ]
     },
     "execution_count": 58,
     "metadata": {},
     "output_type": "execute_result"
    }
   ],
   "source": [
    "train_disease[\"disease\"].value_counts()"
   ]
  },
  {
   "cell_type": "code",
   "execution_count": 120,
   "id": "fb355508-ff48-437f-bd6c-a353feee4940",
   "metadata": {},
   "outputs": [],
   "source": [
    "# train_disease[train_disease[\"disease\"].isin([18, 19])].to_csv(\"C:/juna27/PythonWork/AI/data/tomato_label/tomato_set/[라벨]토마토_질병_train.csv\", encoding=\"utf-8-sig\", index=False)"
   ]
  },
  {
   "cell_type": "code",
   "execution_count": 95,
   "id": "55d0249a-2a1e-4181-bf13-f010666a737c",
   "metadata": {},
   "outputs": [
    {
     "data": {
      "text/plain": [
       "130     V006_77_1_18_11_03_13_1_9008w_20201106_199.jpg\n",
       "1016    V006_77_1_19_11_03_12_1_4997q_20201130_22.jpeg\n",
       "1873    V006_77_1_19_11_03_12_3_4521q_20201209_21.jpeg\n",
       "Name: image, dtype: object"
      ]
     },
     "execution_count": 95,
     "metadata": {},
     "output_type": "execute_result"
    }
   ],
   "source": [
    "train_disease[~train_disease[\"disease\"].isin([18, 19])].image"
   ]
  },
  {
   "cell_type": "code",
   "execution_count": null,
   "id": "65f8d95d-6374-43d6-82f0-3fb53e04835b",
   "metadata": {},
   "outputs": [],
   "source": []
  },
  {
   "cell_type": "code",
   "execution_count": null,
   "id": "33aef7e2-f2fb-4ced-afca-a7ec610dc409",
   "metadata": {},
   "outputs": [],
   "source": []
  },
  {
   "cell_type": "code",
   "execution_count": 66,
   "id": "b4700685-9dea-4a01-94cb-ef8771b25e2a",
   "metadata": {
    "tags": []
   },
   "outputs": [],
   "source": [
    "# val 질병"
   ]
  },
  {
   "cell_type": "code",
   "execution_count": 67,
   "id": "48dd698d-903b-4aef-8e42-913ec74c9170",
   "metadata": {},
   "outputs": [],
   "source": [
    "val_disease = pd.read_csv(\"C:/juna27/PythonWork/AI/data/tomato_label/tomato_set/[라벨]11.토마토_1.질병(validation).csv\")"
   ]
  },
  {
   "cell_type": "code",
   "execution_count": 122,
   "id": "1a51f2e8-72f5-4e17-8015-5d2f99a35add",
   "metadata": {},
   "outputs": [],
   "source": [
    "# val_disease.to_csv(\"C:/juna27/PythonWork/AI/data/tomato_label/tomato_set/[라벨]토마토_질병_val.csv\", encoding=\"utf-8-sig\", index=False)"
   ]
  },
  {
   "cell_type": "code",
   "execution_count": 68,
   "id": "e10dff68-bba2-447c-8cbb-2b1d3036c92e",
   "metadata": {},
   "outputs": [
    {
     "data": {
      "text/plain": [
       "array([18, 19], dtype=int64)"
      ]
     },
     "execution_count": 68,
     "metadata": {},
     "output_type": "execute_result"
    }
   ],
   "source": [
    "val_disease.disease.unique()"
   ]
  },
  {
   "cell_type": "code",
   "execution_count": 69,
   "id": "f3ec2490-b3a6-492a-8795-a231dc19562e",
   "metadata": {},
   "outputs": [
    {
     "data": {
      "text/plain": [
       "19    136\n",
       "18    110\n",
       "Name: disease, dtype: int64"
      ]
     },
     "execution_count": 69,
     "metadata": {},
     "output_type": "execute_result"
    }
   ],
   "source": [
    "val_disease[\"disease\"].value_counts()"
   ]
  },
  {
   "cell_type": "code",
   "execution_count": null,
   "id": "bfe64580-9ff6-4ff8-9c36-3306e72d4bac",
   "metadata": {},
   "outputs": [],
   "source": []
  },
  {
   "cell_type": "code",
   "execution_count": null,
   "id": "45cdfada-def4-4d42-90dc-4a4affbf4c4a",
   "metadata": {},
   "outputs": [],
   "source": [
    "# train 증강"
   ]
  },
  {
   "cell_type": "code",
   "execution_count": 72,
   "id": "54cd6898-4965-485b-9106-9a1f543f2f4d",
   "metadata": {},
   "outputs": [],
   "source": [
    "train_aug = pd.read_csv(\"C:/juna27/PythonWork/AI/data/tomato_label/tomato_set/[라벨]11.토마토_9.증강(training).csv\")"
   ]
  },
  {
   "cell_type": "code",
   "execution_count": 73,
   "id": "54a05596-5b02-4fc1-9960-3c48b8367cda",
   "metadata": {},
   "outputs": [
    {
     "data": {
      "text/plain": [
       "array([18,  1, 19, 15], dtype=int64)"
      ]
     },
     "execution_count": 73,
     "metadata": {},
     "output_type": "execute_result"
    }
   ],
   "source": [
    "train_aug.disease.unique()"
   ]
  },
  {
   "cell_type": "code",
   "execution_count": 74,
   "id": "367f549c-0341-4451-a2c4-64fbbed29201",
   "metadata": {},
   "outputs": [
    {
     "data": {
      "text/plain": [
       "19    10550\n",
       "18     8460\n",
       "1        10\n",
       "15       10\n",
       "Name: disease, dtype: int64"
      ]
     },
     "execution_count": 74,
     "metadata": {},
     "output_type": "execute_result"
    }
   ],
   "source": [
    "train_aug[\"disease\"].value_counts()"
   ]
  },
  {
   "cell_type": "code",
   "execution_count": 124,
   "id": "5ecff202-40f6-4bd6-9e3b-4ef5eb99b2c1",
   "metadata": {
    "tags": []
   },
   "outputs": [],
   "source": [
    "# train_aug[train_aug[\"disease\"].isin([18, 19])].to_csv(\"C:/juna27/PythonWork/AI/data/tomato_label/tomato_set/[라벨]토마토_증강_train.csv\", encoding=\"utf-8-sig\", index=False)"
   ]
  },
  {
   "cell_type": "code",
   "execution_count": 97,
   "id": "6e61872c-470b-409f-a7d2-dda6d9f040df",
   "metadata": {
    "tags": []
   },
   "outputs": [
    {
     "data": {
      "text/plain": [
       "1300     V006_77_1_18_11_03_13_1_9008w_20201106_199_a00...\n",
       "1301     V006_77_1_18_11_03_13_1_9008w_20201106_199_a00...\n",
       "1302     V006_77_1_18_11_03_13_1_9008w_20201106_199_a00...\n",
       "1303     V006_77_1_18_11_03_13_1_9008w_20201106_199_a00...\n",
       "1304     V006_77_1_18_11_03_13_1_9008w_20201106_199_a00...\n",
       "1305     V006_77_1_18_11_03_13_1_9008w_20201106_199_a00...\n",
       "1306     V006_77_1_18_11_03_13_1_9008w_20201106_199_a00...\n",
       "1307     V006_77_1_18_11_03_13_1_9008w_20201106_199_a00...\n",
       "1308     V006_77_1_18_11_03_13_1_9008w_20201106_199_a00...\n",
       "1309     V006_77_1_18_11_03_13_1_9008w_20201106_199_a00...\n",
       "18190    V006_77_1_19_11_03_12_3_4521q_20201209_21_a000...\n",
       "18191    V006_77_1_19_11_03_12_3_4521q_20201209_21_a000...\n",
       "18192    V006_77_1_19_11_03_12_3_4521q_20201209_21_a000...\n",
       "18193    V006_77_1_19_11_03_12_3_4521q_20201209_21_a000...\n",
       "18194    V006_77_1_19_11_03_12_3_4521q_20201209_21_a000...\n",
       "18195    V006_77_1_19_11_03_12_3_4521q_20201209_21_a000...\n",
       "18196    V006_77_1_19_11_03_12_3_4521q_20201209_21_a000...\n",
       "18197    V006_77_1_19_11_03_12_3_4521q_20201209_21_a000...\n",
       "18198    V006_77_1_19_11_03_12_3_4521q_20201209_21_a000...\n",
       "18199    V006_77_1_19_11_03_12_3_4521q_20201209_21_a000...\n",
       "Name: image, dtype: object"
      ]
     },
     "execution_count": 97,
     "metadata": {},
     "output_type": "execute_result"
    }
   ],
   "source": [
    "train_aug[~train_aug[\"disease\"].isin([18, 19])].image"
   ]
  },
  {
   "cell_type": "code",
   "execution_count": null,
   "id": "30ee290b-65f8-4a22-ac45-6ca3e0fa3e6d",
   "metadata": {},
   "outputs": [],
   "source": []
  },
  {
   "cell_type": "code",
   "execution_count": null,
   "id": "2b9b6ffb-ae96-4c75-943b-74501b9573cd",
   "metadata": {},
   "outputs": [],
   "source": []
  },
  {
   "cell_type": "code",
   "execution_count": 71,
   "id": "e4f18abe-1c1b-43fc-914d-2ea59e1e5813",
   "metadata": {},
   "outputs": [],
   "source": [
    "# val 증강"
   ]
  },
  {
   "cell_type": "code",
   "execution_count": 75,
   "id": "193085f4-29b6-42b7-85a6-b413586b00c9",
   "metadata": {},
   "outputs": [],
   "source": [
    "val_aug = pd.read_csv(\"C:/juna27/PythonWork/AI/data/tomato_label/tomato_set/[라벨]11.토마토_9.증강(validation).csv\")"
   ]
  },
  {
   "cell_type": "code",
   "execution_count": 76,
   "id": "2a3b81de-efff-4f79-a0a4-60dbe18a50fb",
   "metadata": {},
   "outputs": [
    {
     "data": {
      "text/plain": [
       "array([18, 19,  3], dtype=int64)"
      ]
     },
     "execution_count": 76,
     "metadata": {},
     "output_type": "execute_result"
    }
   ],
   "source": [
    "val_aug.disease.unique()"
   ]
  },
  {
   "cell_type": "code",
   "execution_count": 77,
   "id": "b45cc6c4-57a7-45d0-8362-05988f32b257",
   "metadata": {},
   "outputs": [
    {
     "data": {
      "text/plain": [
       "19    1700\n",
       "18    1100\n",
       "3       10\n",
       "Name: disease, dtype: int64"
      ]
     },
     "execution_count": 77,
     "metadata": {},
     "output_type": "execute_result"
    }
   ],
   "source": [
    "val_aug[\"disease\"].value_counts()"
   ]
  },
  {
   "cell_type": "code",
   "execution_count": 126,
   "id": "a4e741d8-2420-4e00-9091-934813b666a7",
   "metadata": {
    "tags": []
   },
   "outputs": [],
   "source": [
    "# val_aug[val_aug[\"disease\"].isin([18, 19])].to_csv(\"C:/juna27/PythonWork/AI/data/tomato_label/tomato_set/[라벨]토마토_증강_val.csv\", encoding=\"utf-8-sig\", index=False)"
   ]
  },
  {
   "cell_type": "code",
   "execution_count": 99,
   "id": "8bb98639-5f69-4e75-a361-e8f0af972422",
   "metadata": {
    "tags": []
   },
   "outputs": [
    {
     "data": {
      "text/plain": [
       "1420    V006_77_1_19_11_03_12_1_4997q_20201130_22_a000...\n",
       "1421    V006_77_1_19_11_03_12_1_4997q_20201130_22_a000...\n",
       "1422    V006_77_1_19_11_03_12_1_4997q_20201130_22_a000...\n",
       "1423    V006_77_1_19_11_03_12_1_4997q_20201130_22_a000...\n",
       "1424    V006_77_1_19_11_03_12_1_4997q_20201130_22_a000...\n",
       "1425    V006_77_1_19_11_03_12_1_4997q_20201130_22_a000...\n",
       "1426    V006_77_1_19_11_03_12_1_4997q_20201130_22_a000...\n",
       "1427    V006_77_1_19_11_03_12_1_4997q_20201130_22_a000...\n",
       "1428    V006_77_1_19_11_03_12_1_4997q_20201130_22_a000...\n",
       "1429    V006_77_1_19_11_03_12_1_4997q_20201130_22_a000...\n",
       "Name: image, dtype: object"
      ]
     },
     "execution_count": 99,
     "metadata": {},
     "output_type": "execute_result"
    }
   ],
   "source": [
    "val_aug[~val_aug[\"disease\"].isin([18, 19])].image"
   ]
  },
  {
   "cell_type": "code",
   "execution_count": null,
   "id": "4281c4da-8459-4e69-baf7-4db283258014",
   "metadata": {},
   "outputs": [],
   "source": []
  },
  {
   "cell_type": "code",
   "execution_count": 127,
   "id": "7a4737c9-1b65-4915-bb9d-e1239bd9bd08",
   "metadata": {
    "collapsed": true,
    "jupyter": {
     "outputs_hidden": true
    },
    "tags": []
   },
   "outputs": [
    {
     "data": {
      "text/plain": [
       "1420    V006_77_1_19_11_03_12_1_4997q_20201130_22_a000...\n",
       "1421    V006_77_1_19_11_03_12_1_4997q_20201130_22_a000...\n",
       "1422    V006_77_1_19_11_03_12_1_4997q_20201130_22_a000...\n",
       "1423    V006_77_1_19_11_03_12_1_4997q_20201130_22_a000...\n",
       "1424    V006_77_1_19_11_03_12_1_4997q_20201130_22_a000...\n",
       "1425    V006_77_1_19_11_03_12_1_4997q_20201130_22_a000...\n",
       "1426    V006_77_1_19_11_03_12_1_4997q_20201130_22_a000...\n",
       "1427    V006_77_1_19_11_03_12_1_4997q_20201130_22_a000...\n",
       "1428    V006_77_1_19_11_03_12_1_4997q_20201130_22_a000...\n",
       "1429    V006_77_1_19_11_03_12_1_4997q_20201130_22_a000...\n",
       "Name: image, dtype: object"
      ]
     },
     "execution_count": 127,
     "metadata": {},
     "output_type": "execute_result"
    }
   ],
   "source": [
    "train_fine[~train_fine[\"disease\"].isin([0])].image\n",
    "train_disease[~train_disease[\"disease\"].isin([18, 19])].image\n",
    "train_aug[~train_aug[\"disease\"].isin([18, 19])].image\n",
    "val_aug[~val_aug[\"disease\"].isin([18, 19])].image"
   ]
  },
  {
   "cell_type": "code",
   "execution_count": 142,
   "id": "409da311-0263-49b3-8657-d653cf7315fc",
   "metadata": {
    "tags": []
   },
   "outputs": [],
   "source": [
    "move_list = list(train_fine[~train_fine[\"disease\"].isin([0])].image)+\\\n",
    "list(train_disease[~train_disease[\"disease\"].isin([18, 19])].image)+\\\n",
    "list(train_aug[~train_aug[\"disease\"].isin([18, 19])].image)+\\\n",
    "list(val_aug[~val_aug[\"disease\"].isin([18, 19])].image)"
   ]
  },
  {
   "cell_type": "code",
   "execution_count": 145,
   "id": "b44dd150-1346-47e9-90e9-d491089d8a40",
   "metadata": {
    "collapsed": true,
    "jupyter": {
     "outputs_hidden": true
    },
    "tags": []
   },
   "outputs": [
    {
     "data": {
      "text/plain": [
       "['V006_77_0_00_11_01_13_0_c07_20201202_0068_S01_1.JPG',\n",
       " 'V006_77_1_18_11_03_13_1_9008w_20201106_199.jpg',\n",
       " 'V006_77_1_19_11_03_12_1_4997q_20201130_22.jpeg',\n",
       " 'V006_77_1_19_11_03_12_3_4521q_20201209_21.jpeg',\n",
       " 'V006_77_1_18_11_03_13_1_9008w_20201106_199_a0000.jpg',\n",
       " 'V006_77_1_18_11_03_13_1_9008w_20201106_199_a0001.jpg',\n",
       " 'V006_77_1_18_11_03_13_1_9008w_20201106_199_a0002.jpg',\n",
       " 'V006_77_1_18_11_03_13_1_9008w_20201106_199_a0003.jpg',\n",
       " 'V006_77_1_18_11_03_13_1_9008w_20201106_199_a0004.jpg',\n",
       " 'V006_77_1_18_11_03_13_1_9008w_20201106_199_a0005.jpg',\n",
       " 'V006_77_1_18_11_03_13_1_9008w_20201106_199_a0006.jpg',\n",
       " 'V006_77_1_18_11_03_13_1_9008w_20201106_199_a0007.jpg',\n",
       " 'V006_77_1_18_11_03_13_1_9008w_20201106_199_a0008.jpg',\n",
       " 'V006_77_1_18_11_03_13_1_9008w_20201106_199_a0009.jpg',\n",
       " 'V006_77_1_19_11_03_12_3_4521q_20201209_21_a0000.jpeg',\n",
       " 'V006_77_1_19_11_03_12_3_4521q_20201209_21_a0001.jpeg',\n",
       " 'V006_77_1_19_11_03_12_3_4521q_20201209_21_a0002.jpeg',\n",
       " 'V006_77_1_19_11_03_12_3_4521q_20201209_21_a0003.jpeg',\n",
       " 'V006_77_1_19_11_03_12_3_4521q_20201209_21_a0004.jpeg',\n",
       " 'V006_77_1_19_11_03_12_3_4521q_20201209_21_a0005.jpeg',\n",
       " 'V006_77_1_19_11_03_12_3_4521q_20201209_21_a0006.jpeg',\n",
       " 'V006_77_1_19_11_03_12_3_4521q_20201209_21_a0007.jpeg',\n",
       " 'V006_77_1_19_11_03_12_3_4521q_20201209_21_a0008.jpeg',\n",
       " 'V006_77_1_19_11_03_12_3_4521q_20201209_21_a0009.jpeg',\n",
       " 'V006_77_1_19_11_03_12_1_4997q_20201130_22_a0000.jpeg',\n",
       " 'V006_77_1_19_11_03_12_1_4997q_20201130_22_a0001.jpeg',\n",
       " 'V006_77_1_19_11_03_12_1_4997q_20201130_22_a0002.jpeg',\n",
       " 'V006_77_1_19_11_03_12_1_4997q_20201130_22_a0003.jpeg',\n",
       " 'V006_77_1_19_11_03_12_1_4997q_20201130_22_a0004.jpeg',\n",
       " 'V006_77_1_19_11_03_12_1_4997q_20201130_22_a0005.jpeg',\n",
       " 'V006_77_1_19_11_03_12_1_4997q_20201130_22_a0006.jpeg',\n",
       " 'V006_77_1_19_11_03_12_1_4997q_20201130_22_a0007.jpeg',\n",
       " 'V006_77_1_19_11_03_12_1_4997q_20201130_22_a0008.jpeg',\n",
       " 'V006_77_1_19_11_03_12_1_4997q_20201130_22_a0009.jpeg']"
      ]
     },
     "execution_count": 145,
     "metadata": {},
     "output_type": "execute_result"
    }
   ],
   "source": [
    "move_list"
   ]
  },
  {
   "cell_type": "code",
   "execution_count": 148,
   "id": "f147bca0-0d18-48aa-934f-ada4fce6d327",
   "metadata": {},
   "outputs": [],
   "source": [
    "move_list_df = pd.DataFrame(move_list, columns=[\"image\"])"
   ]
  },
  {
   "cell_type": "code",
   "execution_count": 149,
   "id": "bf40be29-bba2-4272-8b2f-de18463bcb9b",
   "metadata": {},
   "outputs": [],
   "source": [
    "move_list_df.to_csv(\"data/tomato_label/tomato_set/move_list_names.csv\", encoding=\"utf-8-sig\", index=False)"
   ]
  },
  {
   "cell_type": "code",
   "execution_count": null,
   "id": "408ef0ae-20d8-4f50-91e9-725c500661be",
   "metadata": {},
   "outputs": [],
   "source": []
  },
  {
   "cell_type": "code",
   "execution_count": null,
   "id": "f838daf6-b9aa-4626-9ef7-48b3f8d190f2",
   "metadata": {},
   "outputs": [],
   "source": []
  }
 ],
 "metadata": {
  "kernelspec": {
   "display_name": "Python 3 (ipykernel)",
   "language": "python",
   "name": "python3"
  },
  "language_info": {
   "codemirror_mode": {
    "name": "ipython",
    "version": 3
   },
   "file_extension": ".py",
   "mimetype": "text/x-python",
   "name": "python",
   "nbconvert_exporter": "python",
   "pygments_lexer": "ipython3",
   "version": "3.9.13"
  }
 },
 "nbformat": 4,
 "nbformat_minor": 5
}
