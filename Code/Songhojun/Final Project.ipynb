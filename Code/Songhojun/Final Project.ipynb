{
 "cells": [
  {
   "cell_type": "code",
   "execution_count": null,
   "id": "3709be5c",
   "metadata": {},
   "outputs": [],
   "source": [
    "import tensorflow as tf\n",
    "from tensorflow.keras.models import Sequential, load_model, Model\n",
    "from tensorflow.keras.layers import Flatten, Dense, Input, concatenate\n",
    "from tensorflow.keras.optimizers import SGD, Adam\n",
    "import matplotlib .pyplot as plt\n",
    "\n",
    "import numpy as np\n",
    "import pandas as pd\n",
    "import matplotlib.pyplot as plt\n",
    "import seaborn as sns\n",
    "\n",
    "from sklearn.model_selection import train_test_split\n",
    "from sklearn.preprocessing import StandardScaler, MinMaxScaler, LabelEncoder\n",
    "from sklearn.metrics import accuracy_score\n",
    "\n",
    "import json\n",
    "import cv2\n",
    "import zipfile\n",
    "import shutil\n",
    "import os\n",
    "import glob\n",
    "import tarfile"
   ]
  },
  {
   "cell_type": "markdown",
   "id": "d1bc7f6d",
   "metadata": {},
   "source": [
    "## 트레이닝 파일 압축 해제"
   ]
  },
  {
   "cell_type": "code",
   "execution_count": null,
   "id": "8efa00a9",
   "metadata": {},
   "outputs": [],
   "source": [
    "file_name = [\"c착과군\", \"e열매\", \"d1꽃_개화군\", \"a1생장길이\", \"b개화군\", \"d2꽃_착과군\", \"f만개꽃\", \"a3줄기두께\",\n",
    "            \"a4엽장엽폭\", \"a2화방높이\"]\n",
    "file = []\n",
    "\n",
    "file_path=\"C:/Users/acorn/Downloads/097.지능형 스마트팜 통합 데이터(토마토)/01.데이터/1.Training/라벨링데이터/\"\n",
    "\n",
    "## 압축파일 리스트에 담기\n",
    "\n",
    "for i in file_name:\n",
    "    file.append(\"TL_{}.zip\".format(i))\n",
    "    \n",
    "### 리스트를 for문 돌려서 압축파일 풀기\n",
    "for f in file:\n",
    "    with zipfile.ZipFile(file_path+f) as target_file:\n",
    "        target_file.extractall(file_path)"
   ]
  },
  {
   "cell_type": "markdown",
   "id": "5af9102d",
   "metadata": {},
   "source": [
    "## 밸리데이션 파일 압축 해제"
   ]
  },
  {
   "cell_type": "code",
   "execution_count": null,
   "id": "edd9d9c3",
   "metadata": {},
   "outputs": [],
   "source": [
    "file_name = [\"c착과군\", \"e열매\", \"d1꽃_개화군\", \"a1생장길이\", \"b개화군\", \"d2꽃_착과군\", \"f만개꽃\", \"a3줄기두께\",\n",
    "            \"a4엽장엽폭\", \"a2화방높이\"]\n",
    "file2 = []\n",
    "file_path2=\"C:/Users/acorn/Downloads/097.지능형 스마트팜 통합 데이터(토마토)/01.데이터/2.Validation/라벨링데이터/\"\n",
    "## 압축파일 리스트에 담기\n",
    "\n",
    "for i in file_name:\n",
    "    file2.append(\"VL_{}.zip\".format(i))\n",
    "\n",
    "### 리스트를 for문 돌려서 압축파일 풀기\n",
    "for f in file2:\n",
    "    with zipfile.ZipFile(file_path2+f) as target_file:\n",
    "        target_file.extractall(file_path2)"
   ]
  },
  {
   "cell_type": "markdown",
   "id": "df173afe",
   "metadata": {},
   "source": [
    "## 트레이닝 JSON 파일 변수에 저장"
   ]
  },
  {
   "cell_type": "code",
   "execution_count": null,
   "id": "9d96574e",
   "metadata": {},
   "outputs": [],
   "source": [
    "raw_json = []\n",
    "\n",
    "# 리스트에 폴더안에 파일 이름 담기\n",
    "for i in range(len(file_name)):\n",
    "    raw_json.append(glob.glob(file_path+\"{}/*.json\".format(file_name[i])))\n",
    "raw_json"
   ]
  },
  {
   "cell_type": "code",
   "execution_count": null,
   "id": "273c8574",
   "metadata": {},
   "outputs": [],
   "source": [
    "raw_f = []\n",
    "\n",
    "# 리스트를 for문 돌려서 JSON파일 읽어와 리스트에 담기\n",
    "for i in range(len(raw_json)):\n",
    "    for k in range(len(raw_json[i])):\n",
    "        with open(raw_json[i][k], \"r\", encoding=\"utf-8\") as j :\n",
    "            raw_f.append(json.loads(j.read()))"
   ]
  },
  {
   "cell_type": "code",
   "execution_count": null,
   "id": "416019ff",
   "metadata": {},
   "outputs": [],
   "source": [
    "len(raw_f)"
   ]
  },
  {
   "cell_type": "markdown",
   "id": "103b7482",
   "metadata": {},
   "source": [
    "## 밸리데이션 JSON 파일 변수에 저장"
   ]
  },
  {
   "cell_type": "code",
   "execution_count": null,
   "id": "a00506f8",
   "metadata": {},
   "outputs": [],
   "source": [
    "raw_json2 = []\n",
    "# 리스트에 폴더안에 파일 이름 담기\n",
    "\n",
    "for i in range(len(file_name)):\n",
    "    raw_json2.append(glob.glob(file_path2+\"{}/*.json\".format(file_name[i])))\n",
    "raw_json2"
   ]
  },
  {
   "cell_type": "code",
   "execution_count": null,
   "id": "3c74d23b",
   "metadata": {},
   "outputs": [],
   "source": [
    "raw_f2 = []\n",
    "# 리스트를 for문 돌려서 JSON파일 읽어와 리스트에 담기\n",
    "\n",
    "for i in range(len(raw_json2)):\n",
    "    for k in range(len(raw_json2[i])):\n",
    "        with open(raw_json2[i][k], \"r\", encoding=\"utf-8\") as j2 :\n",
    "            raw_f2.append(json.loads(j2.read()))"
   ]
  },
  {
   "cell_type": "code",
   "execution_count": null,
   "id": "7e8ccf8d",
   "metadata": {},
   "outputs": [],
   "source": [
    "len(raw_f2)"
   ]
  },
  {
   "cell_type": "markdown",
   "id": "1d3e047c",
   "metadata": {},
   "source": [
    "## JSON파일 DataFrame으로 변환"
   ]
  },
  {
   "cell_type": "code",
   "execution_count": null,
   "id": "dadfeb1a",
   "metadata": {},
   "outputs": [],
   "source": [
    "def mk_tomato_df(raw_f):\n",
    "    tomato_list = []\n",
    "    for i in tqdm(range(len(raw_f))):\n",
    "        data = {\n",
    "        'imagePath': raw_f[i]['imagePath'],\n",
    "        'imageData': raw_f[i]['imageData'],\n",
    "        'imageHeight': raw_f[i]['imageHeight'],\n",
    "        'imageWidth': raw_f[i]['imageWidth'],\n",
    "        'fileVersion': raw_f[i]['file_attributes']['fileVersion'],\n",
    "        'farmId': raw_f[i]['file_attributes']['farmId'],\n",
    "        'week': raw_f[i]['file_attributes']['week'],\n",
    "        'number': raw_f[i]['file_attributes']['number'],\n",
    "        'type': raw_f[i]['file_attributes']['type'],\n",
    "        'flowerCluster': raw_f[i]['file_attributes']['flowerCluster'],\n",
    "        'date': raw_f[i]['file_attributes']['date']\n",
    "        }\n",
    "        tomato_list.append(data)\n",
    "        df = pd.DataFrame(tomato_list)\n",
    "    return df\n",
    "    \n",
    "    \n",
    "## df head 확인\n",
    "mk_tomato_df(raw_f).head()"
   ]
  },
  {
   "cell_type": "markdown",
   "id": "1ce77b19",
   "metadata": {},
   "source": [
    "## 이미지 파일 압축 해제"
   ]
  },
  {
   "cell_type": "code",
   "execution_count": null,
   "id": "2193a884",
   "metadata": {},
   "outputs": [],
   "source": [
    "file_name = [\"c착과군\", \"e열매\", \"d1꽃_개화군\", \"a1생장길이\", \"b개화군\", \"d2꽃_착과군\", \"f만개꽃\", \"a3줄기두께\",\n",
    "            \"a4엽장엽폭\", \"a2화방높이\"]\n",
    "\n",
    "file_path = \"D:/097.지능형 스마트팜 통합 데이터(토마토)/01.데이터/1.Training/원천데이터/\"\n",
    "\n",
    "file= []\n",
    "for name in file_name:\n",
    "    file.append(\"TS_{}.zip\".format(name))\n",
    "for f in tqdm(file):\n",
    "    with zipfile.ZipFile(file_path+f) as target_file:\n",
    "        target_file.extractall(file_path)"
   ]
  },
  {
   "cell_type": "markdown",
   "id": "ec85fbf1",
   "metadata": {},
   "source": [
    "## 토마토 CSV파일을 DF파일로 저장하기(tom1, 4, 5, 6)"
   ]
  },
  {
   "cell_type": "code",
   "execution_count": null,
   "id": "61c702f2",
   "metadata": {},
   "outputs": [],
   "source": [
    "name = [\"00_(환경제어기, 양액기)\", \"01_(함수율저울,열화상센서,작물환경센서)\"]\n",
    "file_path = \"D:/097.지능형 스마트팜 통합 데이터(토마토)/01.데이터/1.Training/원천데이터/TS_Timeseries\"\n",
    "file_list = []\n",
    "env_list = []\n",
    "dfs = []\n",
    "to_file = os.path.join(file_path, \"tom5\")\n",
    "\n",
    "# 경로 지정해서 리스트에 담기\n",
    "for env in name:\n",
    "    to_file_env = os.path.join(to_file, env)\n",
    "    env_list.append(to_file_env)\n",
    "\n",
    "# 파일들 이름 리스트에 저장하기\n",
    "for file in env_list:\n",
    "    file_name = glob.glob(file+\"/*csv\")\n",
    "    \n",
    "    for names in file_name:\n",
    "        file_list.append(names)\n",
    "\n",
    "## CSV파일 읽어올때 인코딩 오류가 있어서 해결하고 불러온 다음 DF에 담기\n",
    "for i in range(len(file_list)):\n",
    "    \n",
    "    try:\n",
    "        df = pd.read_csv(file_list[i], encoding=\"cp949\")\n",
    "        \n",
    "    except UnicodeDecodeError as e :\n",
    "        \n",
    "        df = pd.read_csv(file_list[i], encoding=\"utf-8\")\n",
    "        \n",
    "    dfs.append(df)"
   ]
  },
  {
   "cell_type": "markdown",
   "id": "de7f5fc4",
   "metadata": {},
   "source": [
    "## 전처리"
   ]
  },
  {
   "cell_type": "code",
   "execution_count": null,
   "id": "dd54c648",
   "metadata": {},
   "outputs": [],
   "source": [
    "## 컬럼 순서대로 맞추고 평균값 컬럼 생성하기\n",
    "\n",
    "df_mean = (dfs[4][\"내부PT100온도센서1번건구\"]+dfs[4][\"내부PT100온도센서2번습구\"]+dfs[4][\"내부PT100온도센서3번\"])/3\n",
    "df_mean[\"일일 평균온도(℃)\"] = df_mean\n",
    "\n",
    "dfs[0].rename(columns = {\" 누적일사(J) \" : \"누적일사량(J/㎠/day)\"}, inplace=True)\n",
    "\n",
    "df_1 = pd.concat([dfs[0][\"누적일사량(J/㎠/day)\"], df_mean[\"일일 평균온도(℃)\"], dfs[4][\"내부이산화탄소\"], dfs[4][\"EC급액\"], dfs[4][\"pH급액\"]], axis=1)"
   ]
  },
  {
   "cell_type": "code",
   "execution_count": null,
   "id": "94fc5f08",
   "metadata": {},
   "outputs": [],
   "source": []
  },
  {
   "cell_type": "code",
   "execution_count": null,
   "id": "b18b4cdb",
   "metadata": {},
   "outputs": [],
   "source": []
  },
  {
   "cell_type": "code",
   "execution_count": null,
   "id": "036473c2",
   "metadata": {},
   "outputs": [],
   "source": []
  },
  {
   "cell_type": "code",
   "execution_count": null,
   "id": "1632328d",
   "metadata": {},
   "outputs": [],
   "source": []
  },
  {
   "cell_type": "code",
   "execution_count": null,
   "id": "be05cc8d",
   "metadata": {},
   "outputs": [],
   "source": []
  },
  {
   "cell_type": "code",
   "execution_count": null,
   "id": "86c25db4",
   "metadata": {},
   "outputs": [],
   "source": []
  },
  {
   "cell_type": "code",
   "execution_count": null,
   "id": "46d81eff",
   "metadata": {},
   "outputs": [],
   "source": []
  },
  {
   "cell_type": "code",
   "execution_count": null,
   "id": "f902c610",
   "metadata": {},
   "outputs": [],
   "source": []
  },
  {
   "cell_type": "code",
   "execution_count": null,
   "id": "0f0adeb7",
   "metadata": {},
   "outputs": [],
   "source": []
  },
  {
   "cell_type": "code",
   "execution_count": null,
   "id": "108e5965",
   "metadata": {},
   "outputs": [],
   "source": []
  },
  {
   "cell_type": "code",
   "execution_count": null,
   "id": "209c4e9c",
   "metadata": {},
   "outputs": [],
   "source": []
  },
  {
   "cell_type": "code",
   "execution_count": null,
   "id": "54690b42",
   "metadata": {},
   "outputs": [],
   "source": []
  },
  {
   "cell_type": "code",
   "execution_count": null,
   "id": "6997e96d",
   "metadata": {},
   "outputs": [],
   "source": []
  },
  {
   "cell_type": "code",
   "execution_count": null,
   "id": "39e2e899",
   "metadata": {},
   "outputs": [],
   "source": []
  }
 ],
 "metadata": {
  "kernelspec": {
   "display_name": "Python 3 (ipykernel)",
   "language": "python",
   "name": "python3"
  },
  "language_info": {
   "codemirror_mode": {
    "name": "ipython",
    "version": 3
   },
   "file_extension": ".py",
   "mimetype": "text/x-python",
   "name": "python",
   "nbconvert_exporter": "python",
   "pygments_lexer": "ipython3",
   "version": "3.9.13"
  }
 },
 "nbformat": 4,
 "nbformat_minor": 5
}
