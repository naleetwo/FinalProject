{
 "cells": [
  {
   "cell_type": "code",
   "execution_count": 1,
   "id": "ea44cc8b-99cc-43e2-99a4-9b9faa85728c",
   "metadata": {},
   "outputs": [],
   "source": [
    "import os\n",
    "import cv2"
   ]
  },
  {
   "cell_type": "code",
   "execution_count": 2,
   "id": "b8581d42-53cf-4f62-94ec-1b01cbab68c7",
   "metadata": {},
   "outputs": [],
   "source": [
    "# train\n",
    "input_directory = \"D:/rawdata_disease/house/train/images/\"\n",
    "\n",
    "output_directory = \"D:/rawdata_disease_resize/house/train/images/\""
   ]
  },
  {
   "cell_type": "code",
   "execution_count": 3,
   "id": "de829a4a-7888-452a-b649-52a6227f663b",
   "metadata": {},
   "outputs": [],
   "source": [
    "# 입력 디렉토리 내의 모든 파일에 대해 반복\n",
    "for filename in os.listdir(input_directory):\n",
    "    # 파일의 전체 경로\n",
    "    input_image_path = os.path.join(input_directory, filename)\n",
    "    \n",
    "    # 이미지 읽어오기\n",
    "    input_image = cv2.imread(input_image_path)\n",
    "\n",
    "    # 이미지의 너비, 폭 가져오기\n",
    "    width = input_image.shape[1]\n",
    "    height = input_image.shape[0]\n",
    "\n",
    "    # 이미지의 크기 조절\n",
    "    output_image = cv2.resize(input_image, dsize=(width // 4, height // 4))\n",
    "\n",
    "    # 복사된 이미지의 저장 경로\n",
    "    output_image_path = os.path.join(output_directory, filename)\n",
    "\n",
    "    # 이미지 저장\n",
    "    cv2.imwrite(output_image_path, output_image)"
   ]
  },
  {
   "cell_type": "code",
   "execution_count": 2,
   "id": "1e00b0eb-d1e8-4f60-b9d8-f4f6953e9b31",
   "metadata": {},
   "outputs": [],
   "source": [
    "# val\n",
    "input_directory = \"D:/rawdata_disease/house/validation/images/\"\n",
    "\n",
    "output_directory = \"D:/rawdata_disease_resize/house/validation/images/\""
   ]
  },
  {
   "cell_type": "code",
   "execution_count": 3,
   "id": "6b6b5e38-3250-4a7f-b0aa-cf26ae4c3f6a",
   "metadata": {},
   "outputs": [],
   "source": [
    "# 입력 디렉토리 내의 모든 파일에 대해 반복\n",
    "for filename in os.listdir(input_directory):\n",
    "    # 파일의 전체 경로\n",
    "    input_image_path = os.path.join(input_directory, filename)\n",
    "    \n",
    "    # 이미지 읽어오기\n",
    "    input_image = cv2.imread(input_image_path)\n",
    "\n",
    "    # 이미지의 너비, 폭 가져오기\n",
    "    width = input_image.shape[1]\n",
    "    height = input_image.shape[0]\n",
    "\n",
    "    # 이미지의 크기 조절\n",
    "    output_image = cv2.resize(input_image, dsize=(width // 4, height // 4))\n",
    "\n",
    "    # 복사된 이미지의 저장 경로\n",
    "    output_image_path = os.path.join(output_directory, filename)\n",
    "\n",
    "    # 이미지 저장\n",
    "    cv2.imwrite(output_image_path, output_image)"
   ]
  },
  {
   "cell_type": "code",
   "execution_count": null,
   "id": "b8d838bf",
   "metadata": {},
   "outputs": [],
   "source": []
  }
 ],
 "metadata": {
  "kernelspec": {
   "display_name": "Python 3 (ipykernel)",
   "language": "python",
   "name": "python3"
  },
  "language_info": {
   "codemirror_mode": {
    "name": "ipython",
    "version": 3
   },
   "file_extension": ".py",
   "mimetype": "text/x-python",
   "name": "python",
   "nbconvert_exporter": "python",
   "pygments_lexer": "ipython3",
   "version": "3.10.9"
  }
 },
 "nbformat": 4,
 "nbformat_minor": 5
}
