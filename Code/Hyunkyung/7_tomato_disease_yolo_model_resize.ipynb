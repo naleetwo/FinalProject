{
 "cells": [
  {
   "cell_type": "code",
   "execution_count": 1,
   "id": "5b10eb1f",
   "metadata": {},
   "outputs": [],
   "source": [
    "import os\n",
    "import glob\n",
    "import shutil\n",
    "import zipfile\n",
    "import json\n",
    "import pandas as pd\n",
    "import numpy as np\n",
    "from pandas import DataFrame\n",
    "\n",
    "from datetime import datetime\n",
    "\n",
    "from PIL import Image\n",
    "import matplotlib.pyplot as plt\n",
    "import matplotlib.patches as patches\n",
    "from tqdm import tqdm\n",
    "import os\n",
    "import json\n",
    "import pandas as pd\n",
    "\n",
    "\n",
    "import matplotlib as mlp\n",
    "import matplotlib.font_manager as fm\n",
    "font_name = fm.FontProperties(fname = \"C:/Windows/Fonts/malgun.ttf\").get_name()\n",
    "plt.rc(\"font\", family = font_name)\n",
    "mlp.rcParams[\"axes.unicode_minus\"] = False"
   ]
  },
  {
   "cell_type": "markdown",
   "id": "ebacb2d7",
   "metadata": {},
   "source": [
    "## 경로 설정"
   ]
  },
  {
   "cell_type": "code",
   "execution_count": 2,
   "id": "797d6542",
   "metadata": {},
   "outputs": [],
   "source": [
    "ROOT_DIR = 'E:/'\n",
    "\n",
    "YOLOv5_ROOT_DIR = os.path.join(ROOT_DIR, 'yolov5')\n",
    "\n",
    "DATA_ROOT_DIR = os.path.join(ROOT_DIR, 'rawdata_disease_resize')\n",
    "HOUSE_DATA_ROOT_DIR = os.path.join(DATA_ROOT_DIR, 'house')"
   ]
  },
  {
   "cell_type": "code",
   "execution_count": 3,
   "id": "96fc6130",
   "metadata": {},
   "outputs": [],
   "source": [
    "TRAIN_ROOT_DIR = os.path.join(HOUSE_DATA_ROOT_DIR, 'train')\n",
    "VALID_ROOT_DIR = os.path.join(HOUSE_DATA_ROOT_DIR, 'validation')"
   ]
  },
  {
   "cell_type": "markdown",
   "id": "1761b59f",
   "metadata": {},
   "source": [
    "## YOLO source 가져오기"
   ]
  },
  {
   "cell_type": "code",
   "execution_count": 4,
   "id": "709aa7d3",
   "metadata": {},
   "outputs": [
    {
     "name": "stderr",
     "output_type": "stream",
     "text": [
      "'rm'은(는) 내부 또는 외부 명령, 실행할 수 있는 프로그램, 또는\n",
      "배치 파일이 아닙니다.\n",
      "fatal: destination path 'yolov5' already exists and is not an empty directory.\n"
     ]
    }
   ],
   "source": [
    "!rm -rf {YOLOv5_ROOT_DIR}\n",
    "\n",
    "!cd {ROOT_DIR}\n",
    "!git clone https://github.com/ultralytics/yolov5"
   ]
  },
  {
   "cell_type": "markdown",
   "id": "f358bac6",
   "metadata": {},
   "source": [
    "## 필수 라이브러리 설치"
   ]
  },
  {
   "cell_type": "code",
   "execution_count": 3,
   "id": "63a83cfa",
   "metadata": {
    "collapsed": true
   },
   "outputs": [
    {
     "name": "stdout",
     "output_type": "stream",
     "text": [
      "Defaulting to user installation because normal site-packages is not writeable\n",
      "Requirement already satisfied: gitpython>=3.1.30 in c:\\users\\khg08\\appdata\\roaming\\python\\python39\\site-packages (from -r D:/yolov5\\requirements.txt (line 5)) (3.1.31)\n",
      "Requirement already satisfied: matplotlib>=3.3 in c:\\anaconda3\\lib\\site-packages (from -r D:/yolov5\\requirements.txt (line 6)) (3.5.2)\n",
      "Requirement already satisfied: numpy>=1.18.5 in c:\\users\\khg08\\appdata\\roaming\\python\\python39\\site-packages (from -r D:/yolov5\\requirements.txt (line 7)) (1.23.5)\n",
      "Requirement already satisfied: opencv-python>=4.1.1 in c:\\users\\khg08\\appdata\\roaming\\python\\python39\\site-packages (from -r D:/yolov5\\requirements.txt (line 8)) (4.7.0.72)\n",
      "Requirement already satisfied: Pillow>=7.1.2 in c:\\anaconda3\\lib\\site-packages (from -r D:/yolov5\\requirements.txt (line 9)) (9.2.0)\n",
      "Requirement already satisfied: psutil in c:\\anaconda3\\lib\\site-packages (from -r D:/yolov5\\requirements.txt (line 10)) (5.9.0)\n",
      "Requirement already satisfied: PyYAML>=5.3.1 in c:\\anaconda3\\lib\\site-packages (from -r D:/yolov5\\requirements.txt (line 11)) (6.0)\n",
      "Requirement already satisfied: requests>=2.23.0 in c:\\anaconda3\\lib\\site-packages (from -r D:/yolov5\\requirements.txt (line 12)) (2.28.1)\n",
      "Requirement already satisfied: scipy>=1.4.1 in c:\\anaconda3\\lib\\site-packages (from -r D:/yolov5\\requirements.txt (line 13)) (1.9.1)\n",
      "Requirement already satisfied: thop>=0.1.1 in c:\\users\\khg08\\appdata\\roaming\\python\\python39\\site-packages (from -r D:/yolov5\\requirements.txt (line 14)) (0.1.1.post2209072238)\n",
      "Requirement already satisfied: torch>=1.7.0 in c:\\users\\khg08\\appdata\\roaming\\python\\python39\\site-packages (from -r D:/yolov5\\requirements.txt (line 15)) (2.0.1)\n",
      "Requirement already satisfied: torchvision>=0.8.1 in c:\\users\\khg08\\appdata\\roaming\\python\\python39\\site-packages (from -r D:/yolov5\\requirements.txt (line 16)) (0.15.2)\n",
      "Requirement already satisfied: tqdm>=4.64.0 in c:\\anaconda3\\lib\\site-packages (from -r D:/yolov5\\requirements.txt (line 17)) (4.64.1)\n",
      "Requirement already satisfied: ultralytics>=8.0.111 in c:\\users\\khg08\\appdata\\roaming\\python\\python39\\site-packages (from -r D:/yolov5\\requirements.txt (line 18)) (8.0.117)\n",
      "Requirement already satisfied: pandas>=1.1.4 in c:\\anaconda3\\lib\\site-packages (from -r D:/yolov5\\requirements.txt (line 27)) (1.4.4)\n",
      "Requirement already satisfied: seaborn>=0.11.0 in c:\\anaconda3\\lib\\site-packages (from -r D:/yolov5\\requirements.txt (line 28)) (0.11.2)\n",
      "Requirement already satisfied: setuptools>=65.5.1 in c:\\users\\khg08\\appdata\\roaming\\python\\python39\\site-packages (from -r D:/yolov5\\requirements.txt (line 42)) (67.8.0)\n",
      "Requirement already satisfied: gitdb<5,>=4.0.1 in c:\\users\\khg08\\appdata\\roaming\\python\\python39\\site-packages (from gitpython>=3.1.30->-r D:/yolov5\\requirements.txt (line 5)) (4.0.10)\n",
      "Requirement already satisfied: kiwisolver>=1.0.1 in c:\\anaconda3\\lib\\site-packages (from matplotlib>=3.3->-r D:/yolov5\\requirements.txt (line 6)) (1.4.2)\n",
      "Requirement already satisfied: cycler>=0.10 in c:\\anaconda3\\lib\\site-packages (from matplotlib>=3.3->-r D:/yolov5\\requirements.txt (line 6)) (0.11.0)\n",
      "Requirement already satisfied: packaging>=20.0 in c:\\anaconda3\\lib\\site-packages (from matplotlib>=3.3->-r D:/yolov5\\requirements.txt (line 6)) (21.3)\n",
      "Requirement already satisfied: python-dateutil>=2.7 in c:\\anaconda3\\lib\\site-packages (from matplotlib>=3.3->-r D:/yolov5\\requirements.txt (line 6)) (2.8.2)\n",
      "Requirement already satisfied: pyparsing>=2.2.1 in c:\\anaconda3\\lib\\site-packages (from matplotlib>=3.3->-r D:/yolov5\\requirements.txt (line 6)) (3.0.9)\n",
      "Requirement already satisfied: fonttools>=4.22.0 in c:\\anaconda3\\lib\\site-packages (from matplotlib>=3.3->-r D:/yolov5\\requirements.txt (line 6)) (4.25.0)\n",
      "Requirement already satisfied: certifi>=2017.4.17 in c:\\anaconda3\\lib\\site-packages (from requests>=2.23.0->-r D:/yolov5\\requirements.txt (line 12)) (2022.9.14)\n",
      "Requirement already satisfied: urllib3<1.27,>=1.21.1 in c:\\anaconda3\\lib\\site-packages (from requests>=2.23.0->-r D:/yolov5\\requirements.txt (line 12)) (1.26.11)\n",
      "Requirement already satisfied: charset-normalizer<3,>=2 in c:\\anaconda3\\lib\\site-packages (from requests>=2.23.0->-r D:/yolov5\\requirements.txt (line 12)) (2.0.4)\n",
      "Requirement already satisfied: idna<4,>=2.5 in c:\\anaconda3\\lib\\site-packages (from requests>=2.23.0->-r D:/yolov5\\requirements.txt (line 12)) (3.3)\n",
      "Requirement already satisfied: jinja2 in c:\\anaconda3\\lib\\site-packages (from torch>=1.7.0->-r D:/yolov5\\requirements.txt (line 15)) (2.11.3)\n",
      "Requirement already satisfied: filelock in c:\\anaconda3\\lib\\site-packages (from torch>=1.7.0->-r D:/yolov5\\requirements.txt (line 15)) (3.6.0)\n",
      "Requirement already satisfied: sympy in c:\\anaconda3\\lib\\site-packages (from torch>=1.7.0->-r D:/yolov5\\requirements.txt (line 15)) (1.10.1)\n",
      "Requirement already satisfied: networkx in c:\\anaconda3\\lib\\site-packages (from torch>=1.7.0->-r D:/yolov5\\requirements.txt (line 15)) (2.8.4)\n",
      "Requirement already satisfied: typing-extensions in c:\\anaconda3\\lib\\site-packages (from torch>=1.7.0->-r D:/yolov5\\requirements.txt (line 15)) (4.3.0)\n",
      "Requirement already satisfied: colorama in c:\\anaconda3\\lib\\site-packages (from tqdm>=4.64.0->-r D:/yolov5\\requirements.txt (line 17)) (0.4.5)\n",
      "Requirement already satisfied: pytz>=2020.1 in c:\\anaconda3\\lib\\site-packages (from pandas>=1.1.4->-r D:/yolov5\\requirements.txt (line 27)) (2022.1)\n",
      "Requirement already satisfied: smmap<6,>=3.0.1 in c:\\users\\khg08\\appdata\\roaming\\python\\python39\\site-packages (from gitdb<5,>=4.0.1->gitpython>=3.1.30->-r D:/yolov5\\requirements.txt (line 5)) (5.0.0)\n",
      "Requirement already satisfied: six>=1.5 in c:\\anaconda3\\lib\\site-packages (from python-dateutil>=2.7->matplotlib>=3.3->-r D:/yolov5\\requirements.txt (line 6)) (1.16.0)\n",
      "Requirement already satisfied: MarkupSafe>=0.23 in c:\\anaconda3\\lib\\site-packages (from jinja2->torch>=1.7.0->-r D:/yolov5\\requirements.txt (line 15)) (2.0.1)\n",
      "Requirement already satisfied: mpmath>=0.19 in c:\\anaconda3\\lib\\site-packages (from sympy->torch>=1.7.0->-r D:/yolov5\\requirements.txt (line 15)) (1.2.1)\n"
     ]
    }
   ],
   "source": [
    "!pip install -r {os.path.join(YOLOv5_ROOT_DIR, 'requirements.txt')}"
   ]
  },
  {
   "cell_type": "markdown",
   "id": "320b4509",
   "metadata": {},
   "source": [
    "## pre-trained model 다운로드"
   ]
  },
  {
   "cell_type": "code",
   "execution_count": 5,
   "id": "3f51b7df",
   "metadata": {},
   "outputs": [
    {
     "name": "stderr",
     "output_type": "stream",
     "text": [
      "'wget'은(는) 내부 또는 외부 명령, 실행할 수 있는 프로그램, 또는\n",
      "배치 파일이 아닙니다.\n"
     ]
    }
   ],
   "source": [
    "!wget -P /yolov5/ https://github.com/ultralytics/yolov5/releases/download/v6.0/yolov5s.pt"
   ]
  },
  {
   "cell_type": "markdown",
   "id": "d49c807f",
   "metadata": {},
   "source": [
    "# train에서"
   ]
  },
  {
   "cell_type": "markdown",
   "id": "7e520990",
   "metadata": {},
   "source": [
    "## images, labels 폴더 생성"
   ]
  },
  {
   "cell_type": "code",
   "execution_count": 8,
   "id": "3ed3652d",
   "metadata": {},
   "outputs": [],
   "source": [
    "if not os.path.exists(os.path.join(TRAIN_ROOT_DIR, 'images')):\n",
    "    os.mkdir(os.path.join(TRAIN_ROOT_DIR, 'images'))\n",
    "    \n",
    "if not os.path.exists(os.path.join(TRAIN_ROOT_DIR, 'labels')):\n",
    "    os.mkdir(os.path.join(TRAIN_ROOT_DIR, 'labels'))"
   ]
  },
  {
   "cell_type": "markdown",
   "id": "6439ec9c",
   "metadata": {},
   "source": [
    "## 필요한 파일 images, labels 폴더로 나눠서 압축 풀기"
   ]
  },
  {
   "cell_type": "code",
   "execution_count": 9,
   "id": "e43a7540",
   "metadata": {},
   "outputs": [
    {
     "data": {
      "text/plain": [
       "['image_tomato_0.normal.zip',\n",
       " 'image_tomato_1.disease.zip',\n",
       " 'image_tomato_9.disease(1).zip',\n",
       " 'image_tomato_9.disease(2).zip',\n",
       " 'imgaes',\n",
       " 'labels',\n",
       " 'label_tomato_0.normal.zip',\n",
       " 'label_tomato_1.disease.zip',\n",
       " 'label_tomato_9.disease.zip']"
      ]
     },
     "execution_count": 9,
     "metadata": {},
     "output_type": "execute_result"
    }
   ],
   "source": [
    "os.listdir(TRAIN_ROOT_DIR)"
   ]
  },
  {
   "cell_type": "code",
   "execution_count": 12,
   "id": "85b1a067",
   "metadata": {},
   "outputs": [],
   "source": [
    "with zipfile.ZipFile(os.path.join(TRAIN_ROOT_DIR, 'image_tomato_0.normal.zip'), 'r') as zip_ref:\n",
    "    for file in zip_ref.namelist():\n",
    "        if file.split(\"_\")[5] == '03':\n",
    "            zip_ref.extract(file, os.path.join(TRAIN_ROOT_DIR, 'images', 'image_tomato_0.normal'))"
   ]
  },
  {
   "cell_type": "code",
   "execution_count": 11,
   "id": "66668665",
   "metadata": {},
   "outputs": [],
   "source": [
    "with zipfile.ZipFile(os.path.join(TRAIN_ROOT_DIR, 'image_tomato_9.disease(1).zip'), 'r') as target_file:\n",
    "    target_file.extractall(os.path.join(TRAIN_ROOT_DIR, 'images', 'image_tomato_9.disease'))"
   ]
  },
  {
   "cell_type": "code",
   "execution_count": 13,
   "id": "226d0294",
   "metadata": {},
   "outputs": [],
   "source": [
    "with zipfile.ZipFile(os.path.join(TRAIN_ROOT_DIR, 'image_tomato_9.disease(2).zip'), 'r') as target_file:\n",
    "    target_file.extractall(os.path.join(TRAIN_ROOT_DIR, 'images', 'image_tomato_9.disease'))"
   ]
  },
  {
   "cell_type": "code",
   "execution_count": 16,
   "id": "b72aafc7",
   "metadata": {},
   "outputs": [],
   "source": [
    "with zipfile.ZipFile(os.path.join(TRAIN_ROOT_DIR, 'label_tomato_0.normal.zip'), 'r') as zip_ref:\n",
    "    for file in zip_ref.namelist():\n",
    "        if file.split(\"_\")[5] == '03':\n",
    "            zip_ref.extract(file, os.path.join(TRAIN_ROOT_DIR, 'labels', 'label_tomato_0.normal'))"
   ]
  },
  {
   "cell_type": "code",
   "execution_count": 15,
   "id": "5e1772fd",
   "metadata": {},
   "outputs": [],
   "source": [
    "with zipfile.ZipFile(os.path.join(TRAIN_ROOT_DIR, 'label_tomato_9.disease.zip'), 'r') as target_file:\n",
    "    target_file.extractall(os.path.join(TRAIN_ROOT_DIR, 'labels', 'label_tomato_9.disease'))"
   ]
  },
  {
   "cell_type": "markdown",
   "id": "c2170a40",
   "metadata": {},
   "source": [
    "# validation에서"
   ]
  },
  {
   "cell_type": "markdown",
   "id": "d2a1290a",
   "metadata": {},
   "source": [
    "## images, labels 폴더 생성"
   ]
  },
  {
   "cell_type": "code",
   "execution_count": 18,
   "id": "1ce366b2",
   "metadata": {},
   "outputs": [],
   "source": [
    "if not os.path.exists(os.path.join(VALID_ROOT_DIR, 'images')):\n",
    "    os.mkdir(os.path.join(VALID_ROOT_DIR, 'images'))\n",
    "    \n",
    "if not os.path.exists(os.path.join(VALID_ROOT_DIR, 'labels')):\n",
    "    os.mkdir(os.path.join(VALID_ROOT_DIR, 'labels'))"
   ]
  },
  {
   "cell_type": "markdown",
   "id": "8d295d45",
   "metadata": {},
   "source": [
    "## 필요한 파일 images, labels 폴더로 나눠서 압축 풀기"
   ]
  },
  {
   "cell_type": "code",
   "execution_count": 19,
   "id": "2f71eb40",
   "metadata": {},
   "outputs": [
    {
     "data": {
      "text/plain": [
       "['11.토마토_0.정상.zip',\n",
       " '11.토마토_1.질병.zip',\n",
       " '11.토마토_9.증강.zip',\n",
       " 'images',\n",
       " 'labels',\n",
       " '[라벨]11.토마토_0.정상.zip',\n",
       " '[라벨]11.토마토_1.질병.zip',\n",
       " '[라벨]11.토마토_9.증강.zip']"
      ]
     },
     "execution_count": 19,
     "metadata": {},
     "output_type": "execute_result"
    }
   ],
   "source": [
    "os.listdir(VALID_ROOT_DIR)"
   ]
  },
  {
   "cell_type": "code",
   "execution_count": 20,
   "id": "130bd80a",
   "metadata": {},
   "outputs": [],
   "source": [
    "with zipfile.ZipFile(os.path.join(VALID_ROOT_DIR, '11.토마토_0.정상.zip'), 'r') as zip_ref:\n",
    "    for file in zip_ref.namelist():\n",
    "        if file.split(\"_\")[5] == '03':\n",
    "            zip_ref.extract(file, os.path.join(VALID_ROOT_DIR, 'images', 'image_tomato_0.normal'))"
   ]
  },
  {
   "cell_type": "code",
   "execution_count": 21,
   "id": "50c54502",
   "metadata": {},
   "outputs": [],
   "source": [
    "with zipfile.ZipFile(os.path.join(VALID_ROOT_DIR, '11.토마토_9.증강.zip'), 'r') as target_file:\n",
    "    target_file.extractall(os.path.join(VALID_ROOT_DIR, 'images', 'image_tomato_9.disease'))"
   ]
  },
  {
   "cell_type": "code",
   "execution_count": 22,
   "id": "e450281c",
   "metadata": {},
   "outputs": [],
   "source": [
    "with zipfile.ZipFile(os.path.join(VALID_ROOT_DIR, '[라벨]11.토마토_0.정상.zip'), 'r') as zip_ref:\n",
    "    for file in zip_ref.namelist():\n",
    "        if file.split(\"_\")[5] == '03':\n",
    "            zip_ref.extract(file, os.path.join(VALID_ROOT_DIR, 'labels', 'label_tomato_0.normal'))"
   ]
  },
  {
   "cell_type": "code",
   "execution_count": 23,
   "id": "46b054d2",
   "metadata": {},
   "outputs": [],
   "source": [
    "with zipfile.ZipFile(os.path.join(VALID_ROOT_DIR, '[라벨]11.토마토_9.증강.zip'), 'r') as target_file:\n",
    "    target_file.extractall(os.path.join(VALID_ROOT_DIR, 'labels', 'label_tomato_9.disease'))"
   ]
  },
  {
   "cell_type": "markdown",
   "id": "ee45adcb",
   "metadata": {},
   "source": [
    "---"
   ]
  },
  {
   "cell_type": "markdown",
   "id": "b1fe3c13",
   "metadata": {},
   "source": [
    "# 데이터 살펴보기"
   ]
  },
  {
   "cell_type": "code",
   "execution_count": 29,
   "id": "aa5143c9",
   "metadata": {},
   "outputs": [
    {
     "data": {
      "text/html": [
       "<div>\n",
       "<style scoped>\n",
       "    .dataframe tbody tr th:only-of-type {\n",
       "        vertical-align: middle;\n",
       "    }\n",
       "\n",
       "    .dataframe tbody tr th {\n",
       "        vertical-align: top;\n",
       "    }\n",
       "\n",
       "    .dataframe thead th {\n",
       "        text-align: right;\n",
       "    }\n",
       "</style>\n",
       "<table border=\"1\" class=\"dataframe\">\n",
       "  <thead>\n",
       "    <tr style=\"text-align: right;\">\n",
       "      <th></th>\n",
       "      <th>image</th>\n",
       "      <th>date</th>\n",
       "      <th>worker</th>\n",
       "      <th>height</th>\n",
       "      <th>width</th>\n",
       "      <th>task</th>\n",
       "      <th>type</th>\n",
       "      <th>region</th>\n",
       "      <th>disease</th>\n",
       "      <th>crop</th>\n",
       "      <th>area</th>\n",
       "      <th>grow</th>\n",
       "      <th>risk</th>\n",
       "      <th>points</th>\n",
       "      <th>xtl</th>\n",
       "      <th>ytl</th>\n",
       "      <th>xbr</th>\n",
       "      <th>ybr</th>\n",
       "      <th>file</th>\n",
       "    </tr>\n",
       "  </thead>\n",
       "  <tbody>\n",
       "    <tr>\n",
       "      <th>0</th>\n",
       "      <td>V006_77_0_00_11_01_13_0_c01_20201013_0000_S01.jpg</td>\n",
       "      <td>2020/10/13</td>\n",
       "      <td>NaN</td>\n",
       "      <td>3024</td>\n",
       "      <td>4032</td>\n",
       "      <td>77</td>\n",
       "      <td>0</td>\n",
       "      <td>NaN</td>\n",
       "      <td>0</td>\n",
       "      <td>11</td>\n",
       "      <td>1</td>\n",
       "      <td>13</td>\n",
       "      <td>0</td>\n",
       "      <td>[{'xtl': 1864, 'ytl': 1516, 'xbr': 2292, 'ybr'...</td>\n",
       "      <td>1864</td>\n",
       "      <td>1516</td>\n",
       "      <td>2292</td>\n",
       "      <td>1880</td>\n",
       "      <td>0</td>\n",
       "    </tr>\n",
       "    <tr>\n",
       "      <th>1</th>\n",
       "      <td>V006_77_0_00_11_01_13_0_c01_20201013_0000_S01_...</td>\n",
       "      <td>2020/10/13</td>\n",
       "      <td>NaN</td>\n",
       "      <td>3024</td>\n",
       "      <td>4032</td>\n",
       "      <td>77</td>\n",
       "      <td>0</td>\n",
       "      <td>NaN</td>\n",
       "      <td>0</td>\n",
       "      <td>11</td>\n",
       "      <td>1</td>\n",
       "      <td>13</td>\n",
       "      <td>0</td>\n",
       "      <td>[{'xtl': 1722, 'ytl': 436, 'xbr': 2167, 'ybr':...</td>\n",
       "      <td>1722</td>\n",
       "      <td>436</td>\n",
       "      <td>2167</td>\n",
       "      <td>676</td>\n",
       "      <td>0</td>\n",
       "    </tr>\n",
       "    <tr>\n",
       "      <th>2</th>\n",
       "      <td>V006_77_0_00_11_01_13_0_c01_20201013_0001_S01.jpg</td>\n",
       "      <td>2020/10/13</td>\n",
       "      <td>NaN</td>\n",
       "      <td>3024</td>\n",
       "      <td>4032</td>\n",
       "      <td>77</td>\n",
       "      <td>0</td>\n",
       "      <td>NaN</td>\n",
       "      <td>0</td>\n",
       "      <td>11</td>\n",
       "      <td>1</td>\n",
       "      <td>13</td>\n",
       "      <td>0</td>\n",
       "      <td>[{'xtl': 2150, 'ytl': 100, 'xbr': 2727, 'ybr':...</td>\n",
       "      <td>2150</td>\n",
       "      <td>100</td>\n",
       "      <td>2727</td>\n",
       "      <td>784</td>\n",
       "      <td>0</td>\n",
       "    </tr>\n",
       "  </tbody>\n",
       "</table>\n",
       "</div>"
      ],
      "text/plain": [
       "                                               image        date  worker  height  width  ...   xtl   ytl   xbr   ybr  file\n",
       "0  V006_77_0_00_11_01_13_0_c01_20201013_0000_S01.jpg  2020/10/13     NaN    3024   4032  ...  1864  1516  2292  1880     0\n",
       "1  V006_77_0_00_11_01_13_0_c01_20201013_0000_S01_...  2020/10/13     NaN    3024   4032  ...  1722   436  2167   676     0\n",
       "2  V006_77_0_00_11_01_13_0_c01_20201013_0001_S01.jpg  2020/10/13     NaN    3024   4032  ...  2150   100  2727   784     0\n",
       "\n",
       "[3 rows x 19 columns]"
      ]
     },
     "execution_count": 29,
     "metadata": {},
     "output_type": "execute_result"
    }
   ],
   "source": [
    "df = pd.read_csv('D:/tomato/disease/total_df.csv', index_col=0)\n",
    "df.head(3)"
   ]
  },
  {
   "cell_type": "code",
   "execution_count": 31,
   "id": "be7bebe6",
   "metadata": {},
   "outputs": [
    {
     "data": {
      "text/plain": [
       "0    13509\n",
       "2    12443\n",
       "1     5468\n",
       "3     3086\n",
       "Name: risk, dtype: int64"
      ]
     },
     "execution_count": 31,
     "metadata": {},
     "output_type": "execute_result"
    }
   ],
   "source": [
    "df.risk.value_counts()"
   ]
  },
  {
   "cell_type": "markdown",
   "id": "d5aba9c6",
   "metadata": {},
   "source": [
    "# validation에서"
   ]
  },
  {
   "cell_type": "markdown",
   "id": "184225ec",
   "metadata": {},
   "source": [
    "## json"
   ]
  },
  {
   "cell_type": "code",
   "execution_count": 5,
   "id": "0a9088e2",
   "metadata": {},
   "outputs": [
    {
     "data": {
      "text/plain": [
       "{'description': {'image': 'V006_77_0_00_11_03_12_0_c22_20201130_0001_S01_2.jpg',\n",
       "  'date': '2020/11/30',\n",
       "  'worker': '',\n",
       "  'height': 4032,\n",
       "  'width': 3024,\n",
       "  'task': 77,\n",
       "  'type': 0,\n",
       "  'region': None},\n",
       " 'annotations': {'disease': 0,\n",
       "  'crop': 11,\n",
       "  'area': 3,\n",
       "  'grow': 12,\n",
       "  'risk': 0,\n",
       "  'points': [{'xtl': 148, 'ytl': 1129, 'xbr': 2807, 'ybr': 3338}]}}"
      ]
     },
     "execution_count": 5,
     "metadata": {},
     "output_type": "execute_result"
    }
   ],
   "source": [
    "with open('D:/rawdata_disease/house/validation/labels/label_tomato_0.normal/V006_77_0_00_11_03_12_0_c22_20201130_0001_S01_2.jpg.json') as json_file:\n",
    "    json_data = json.load(json_file)\n",
    "\n",
    "json_data"
   ]
  },
  {
   "cell_type": "markdown",
   "id": "b358dfa1",
   "metadata": {},
   "source": [
    "## labels 폴더 내 txt파일 저장 폴더 생성"
   ]
  },
  {
   "cell_type": "code",
   "execution_count": 6,
   "id": "0143684e",
   "metadata": {},
   "outputs": [],
   "source": [
    "if not os.path.exists(os.path.join(VALID_ROOT_DIR, 'labels', 'label_tomato_0.normal_txt')):\n",
    "    os.mkdir(os.path.join(VALID_ROOT_DIR, 'labels', 'label_tomato_0.normal_txt'))\n",
    "    \n",
    "if not os.path.exists(os.path.join(VALID_ROOT_DIR, 'labels', 'label_tomato_9.disease_txt')):\n",
    "    os.mkdir(os.path.join(VALID_ROOT_DIR, 'labels', 'label_tomato_9.disease_txt'))"
   ]
  },
  {
   "cell_type": "markdown",
   "id": "f496990b",
   "metadata": {},
   "source": [
    "## json to txt"
   ]
  },
  {
   "cell_type": "code",
   "execution_count": 9,
   "id": "c6c9424f",
   "metadata": {},
   "outputs": [],
   "source": [
    "def convert_json_to_yolo(json_data):\n",
    "    \n",
    "    with open(json_file_path) as json_file:\n",
    "        json_data = json.load(json_file)\n",
    "    \n",
    "    # 이미지 정보 및 경로 추출\n",
    "    image_path = json_data[\"description\"][\"image\"]\n",
    "    image_width = json_data[\"description\"][\"width\"]\n",
    "    image_height = json_data[\"description\"][\"height\"]\n",
    "    \n",
    "    # YOLO 형식으로 변환할 내용 추출\n",
    "    class_id = json_data[\"annotations\"][\"risk\"]\n",
    "    xtl = json_data[\"annotations\"][\"points\"][0][\"xtl\"]\n",
    "    ytl = json_data[\"annotations\"][\"points\"][0][\"ytl\"]\n",
    "    xbr = json_data[\"annotations\"][\"points\"][0][\"xbr\"]\n",
    "    ybr = json_data[\"annotations\"][\"points\"][0][\"ybr\"]\n",
    "    \n",
    "    # YOLO 좌표 계산 및 정규화\n",
    "    bbox_width = xbr - xtl\n",
    "    bbox_height = ybr - ytl\n",
    "    x_center = (xtl + xbr) / 2 / image_width\n",
    "    y_center = (ytl + ybr) / 2 / image_height\n",
    "    bbox_width = bbox_width / image_width\n",
    "    bbox_height = bbox_height / image_height\n",
    "    \n",
    "    # YOLO 형식의 문자열 생성\n",
    "    yolo_string = f\"{class_id} {x_center} {y_center} {bbox_width} {bbox_height}\"\n",
    "    \n",
    "    return image_path, yolo_string\n",
    "\n",
    "# JSON 파일이 있는 디렉토리 경로\n",
    "json_directory = \"D:/rawdata_disease/house/validation/labels/\"\n",
    "\n",
    "# 변환된 YOLO 파일을 저장할 디렉토리 경로\n",
    "txt_directory = \"D:/rawdata_disease/house/validation/labels/\"\n",
    "\n",
    "# 디렉토리 내의 모든 JSON 파일 처리\n",
    "for filename in os.listdir(json_directory):\n",
    "    json_file_path = os.path.join(json_directory, filename)\n",
    "        \n",
    "    # JSON을 YOLO 형식으로 변환\n",
    "    image_path, yolo_string = convert_json_to_yolo(json_file_path)\n",
    "        \n",
    "    # 변환된 내용을 텍스트 파일로 저장\n",
    "    txt_file_path = os.path.join(txt_directory, f\"{os.path.splitext(filename)[0]}.txt\")\n",
    "    with open(txt_file_path, \"w\") as txt_file:\n",
    "        txt_file.write(yolo_string)"
   ]
  },
  {
   "cell_type": "markdown",
   "id": "5978177b",
   "metadata": {},
   "source": [
    "# train에서"
   ]
  },
  {
   "cell_type": "markdown",
   "id": "c104211f",
   "metadata": {},
   "source": [
    "## labels 폴더 내 txt파일 저장 폴더 생성"
   ]
  },
  {
   "cell_type": "code",
   "execution_count": 10,
   "id": "00f71786",
   "metadata": {},
   "outputs": [],
   "source": [
    "if not os.path.exists(os.path.join(TRAIN_ROOT_DIR, 'labels', 'label_tomato_0.normal_txt')):\n",
    "    os.mkdir(os.path.join(TRAIN_ROOT_DIR, 'labels', 'label_tomato_0.normal_txt'))\n",
    "    \n",
    "if not os.path.exists(os.path.join(TRAIN_ROOT_DIR, 'labels', 'label_tomato_9.disease_txt')):\n",
    "    os.mkdir(os.path.join(TRAIN_ROOT_DIR, 'labels', 'label_tomato_9.disease_txt'))"
   ]
  },
  {
   "cell_type": "markdown",
   "id": "3854274c",
   "metadata": {},
   "source": [
    "## json to txt"
   ]
  },
  {
   "cell_type": "code",
   "execution_count": 12,
   "id": "540c729c",
   "metadata": {},
   "outputs": [],
   "source": [
    "def convert_json_to_yolo(json_data):\n",
    "    \n",
    "    with open(json_file_path) as json_file:\n",
    "        json_data = json.load(json_file)\n",
    "    \n",
    "    # 이미지 정보 및 경로 추출\n",
    "    image_path = json_data[\"description\"][\"image\"]\n",
    "    image_width = json_data[\"description\"][\"width\"]\n",
    "    image_height = json_data[\"description\"][\"height\"]\n",
    "    \n",
    "    # YOLO 형식으로 변환할 내용 추출\n",
    "    class_id = json_data[\"annotations\"][\"risk\"]\n",
    "    xtl = json_data[\"annotations\"][\"points\"][0][\"xtl\"]\n",
    "    ytl = json_data[\"annotations\"][\"points\"][0][\"ytl\"]\n",
    "    xbr = json_data[\"annotations\"][\"points\"][0][\"xbr\"]\n",
    "    ybr = json_data[\"annotations\"][\"points\"][0][\"ybr\"]\n",
    "    \n",
    "    # YOLO 좌표 계산 및 정규화\n",
    "    bbox_width = xbr - xtl\n",
    "    bbox_height = ybr - ytl\n",
    "    x_center = (xtl + xbr) / 2 / image_width\n",
    "    y_center = (ytl + ybr) / 2 / image_height\n",
    "    bbox_width = bbox_width / image_width\n",
    "    bbox_height = bbox_height / image_height\n",
    "    \n",
    "    # YOLO 형식의 문자열 생성\n",
    "    yolo_string = f\"{class_id} {x_center} {y_center} {bbox_width} {bbox_height}\"\n",
    "    \n",
    "    return image_path, yolo_string\n",
    "\n",
    "# JSON 파일이 있는 디렉토리 경로\n",
    "#json_directory = \"D:/rawdata_disease/house/train/labels/label_tomato_9.disease/\"\n",
    "json_directory = \"D:/rawdata_disease/house/train/labels/label_tomato_0.normal/\"\n",
    "\n",
    "# 변환된 YOLO 파일을 저장할 디렉토리 경로\n",
    "#txt_directory = \"D:/rawdata_disease/house/train/labels/label_tomato_9.disease_txt/\"\n",
    "txt_directory = \"D:/rawdata_disease/house/train/labels/label_tomato_0.normal_txt/\"\n",
    "\n",
    "# 디렉토리 내의 모든 JSON 파일 처리\n",
    "for filename in os.listdir(json_directory):\n",
    "    json_file_path = os.path.join(json_directory, filename)\n",
    "        \n",
    "    # JSON을 YOLO 형식으로 변환\n",
    "    image_path, yolo_string = convert_json_to_yolo(json_file_path)\n",
    "        \n",
    "    # 변환된 내용을 텍스트 파일로 저장\n",
    "    txt_file_path = os.path.join(txt_directory, f\"{os.path.splitext(filename)[0]}.txt\")\n",
    "    with open(txt_file_path, \"w\") as txt_file:\n",
    "        txt_file.write(yolo_string)"
   ]
  },
  {
   "cell_type": "markdown",
   "id": "00bb51c5",
   "metadata": {},
   "source": [
    "## train/valid image와 label 개수 및 파일명 일치여부 체크"
   ]
  },
  {
   "cell_type": "code",
   "execution_count": 4,
   "id": "8aac25d1",
   "metadata": {},
   "outputs": [],
   "source": [
    "TRAIN_IMAGE_DATA_DIR = os.path.join(HOUSE_DATA_ROOT_DIR, 'train/images/')\n",
    "TRAIN_LABEL_DATA_DIR = os.path.join(HOUSE_DATA_ROOT_DIR, 'train/labels/')\n",
    "\n",
    "VALID_IMAGE_DATA_DIR = os.path.join(HOUSE_DATA_ROOT_DIR, 'validation/images/')\n",
    "VALID_LABEL_DATA_DIR = os.path.join(HOUSE_DATA_ROOT_DIR, 'validation/labels/')"
   ]
  },
  {
   "cell_type": "code",
   "execution_count": 14,
   "id": "6ce8bf90",
   "metadata": {},
   "outputs": [
    {
     "name": "stdout",
     "output_type": "stream",
     "text": [
      ">>> image is exactly same as label <<<\n"
     ]
    }
   ],
   "source": [
    "#-----------변수 초기화----------\n",
    "train_image_file_list = []\n",
    "train_label_file_list = []\n",
    "\n",
    "train_image_file_name_list = []\n",
    "train_label_file_name_list = []\n",
    "\n",
    "train_image_file_name_set = set()\n",
    "train_label_file_name_set = set()\n",
    "#---------------------------------\n",
    "\n",
    "train_image_file_list = os.listdir(TRAIN_IMAGE_DATA_DIR)\n",
    "train_label_file_list = os.listdir(TRAIN_LABEL_DATA_DIR)\n",
    "\n",
    "train_image_file_list.sort()\n",
    "train_label_file_list.sort()\n",
    "\n",
    "# image file name 추출하기\n",
    "for index in range(len(train_image_file_list)):\n",
    "    image_name = os.path.splitext(train_image_file_list[index])[0]\n",
    "    train_image_file_name_list.append(image_name)\n",
    "    \n",
    "# set -> 중복제거 & 집합연산 가능\n",
    "train_image_file_name_set = set(train_image_file_name_list)\n",
    "\n",
    "# label file name 추출하기\n",
    "for index in range(len(train_label_file_list)):\n",
    "    label_name = os.path.splitext(train_label_file_list[index])[0].split('.')[0]\n",
    "    train_label_file_name_list.append(label_name)\n",
    "\n",
    "train_label_file_name_set = set(train_label_file_name_list)\n",
    "\n",
    "# image file과 label file 비교\n",
    "diff_set = train_image_file_name_set - train_label_file_name_set\n",
    "intersect_set = train_image_file_name_set & train_label_file_name_set\n",
    "\n",
    "if len(diff_set) == 0 :\n",
    "    print('>>> image is exactly same as label <<<')\n",
    "else:\n",
    "    print('>>>different<<<')\n",
    "    print(len(diff_set))"
   ]
  },
  {
   "cell_type": "code",
   "execution_count": 8,
   "id": "75da0549",
   "metadata": {},
   "outputs": [
    {
     "data": {
      "text/plain": [
       "'V006_77_0_00_11_03_12_0_c01_20201013_0000_S01.JPG'"
      ]
     },
     "execution_count": 8,
     "metadata": {},
     "output_type": "execute_result"
    }
   ],
   "source": [
    "train_image_file_list = os.listdir(TRAIN_IMAGE_DATA_DIR)\n",
    "train_image_file_list[0]"
   ]
  },
  {
   "cell_type": "code",
   "execution_count": 10,
   "id": "0bebbf1c",
   "metadata": {},
   "outputs": [
    {
     "data": {
      "text/plain": [
       "('V006_77_1_18_11_03_13_2_9008w_20201023_127_a0008', '.jpg')"
      ]
     },
     "execution_count": 10,
     "metadata": {},
     "output_type": "execute_result"
    }
   ],
   "source": [
    "os.path.splitext(train_image_file_list[10000])"
   ]
  },
  {
   "cell_type": "code",
   "execution_count": 11,
   "id": "77893065",
   "metadata": {},
   "outputs": [
    {
     "data": {
      "text/plain": [
       "'V006_77_0_00_11_03_12_0_c01_20201013_0000_S01.JPG.txt'"
      ]
     },
     "execution_count": 11,
     "metadata": {},
     "output_type": "execute_result"
    }
   ],
   "source": [
    "train_label_file_list = os.listdir(TRAIN_LABEL_DATA_DIR)\n",
    "train_label_file_list[0]"
   ]
  },
  {
   "cell_type": "code",
   "execution_count": 13,
   "id": "990e077d",
   "metadata": {},
   "outputs": [
    {
     "data": {
      "text/plain": [
       "'V006_77_0_00_11_03_12_0_c01_20201013_0000_S01'"
      ]
     },
     "execution_count": 13,
     "metadata": {},
     "output_type": "execute_result"
    }
   ],
   "source": [
    "os.path.splitext(train_label_file_list[0])[0].split('.')[0]"
   ]
  },
  {
   "cell_type": "code",
   "execution_count": 19,
   "id": "67f18056",
   "metadata": {},
   "outputs": [
    {
     "name": "stdout",
     "output_type": "stream",
     "text": [
      ">>> image is exactly same as label <<<\n"
     ]
    }
   ],
   "source": [
    "#-----------변수 초기화----------\n",
    "valid_image_file_list = []\n",
    "valid_label_file_list = []\n",
    "\n",
    "valid_image_file_name_list = []\n",
    "valid_label_file_name_list = []\n",
    "\n",
    "valid_image_file_name_set = set()\n",
    "valid_label_file_name_set = set()\n",
    "#---------------------------------\n",
    "\n",
    "valid_image_file_list = os.listdir(VALID_IMAGE_DATA_DIR)\n",
    "valid_label_file_list = os.listdir(VALID_LABEL_DATA_DIR)\n",
    "\n",
    "valid_image_file_list.sort()\n",
    "valid_label_file_list.sort()\n",
    "\n",
    "# image file name 추출하기\n",
    "for index in range(len(valid_image_file_list)):\n",
    "    image_name = os.path.splitext(valid_image_file_list[index])[0]\n",
    "    valid_image_file_name_list.append(image_name)\n",
    "    \n",
    "# set -> 중복제거 & 집합연산 가능\n",
    "valid_image_file_name_set = set(valid_image_file_name_list)\n",
    "\n",
    "# label file name 추출하기\n",
    "for index in range(len(valid_label_file_list)):\n",
    "    label_name = os.path.splitext(valid_label_file_list[index])[0].split('.')[0]\n",
    "    valid_label_file_name_list.append(label_name)\n",
    "\n",
    "valid_label_file_name_set = set(valid_label_file_name_list)\n",
    "\n",
    "# image file과 label file 비교\n",
    "diff_set = valid_image_file_name_set - valid_label_file_name_set\n",
    "intersect_set = valid_image_file_name_set & valid_label_file_name_set\n",
    "\n",
    "if len(diff_set) == 0 :\n",
    "    print('>>> image is exactly same as label <<<')\n",
    "else:\n",
    "    print('>>>different<<<')\n",
    "    print(len(diff_set))"
   ]
  },
  {
   "cell_type": "markdown",
   "id": "9fe612a1",
   "metadata": {},
   "source": [
    "# label 파일명 수정"
   ]
  },
  {
   "cell_type": "markdown",
   "id": "ba1547a8",
   "metadata": {},
   "source": [
    "- train"
   ]
  },
  {
   "cell_type": "markdown",
   "id": "8d603d8f",
   "metadata": {},
   "source": [
    "예시"
   ]
  },
  {
   "cell_type": "code",
   "execution_count": 13,
   "id": "7968f6d9",
   "metadata": {},
   "outputs": [
    {
     "data": {
      "text/plain": [
       "'V006_77_0_00_11_03_12_0_c01_20201013_0002_S01_1.JPG.txt'"
      ]
     },
     "execution_count": 13,
     "metadata": {},
     "output_type": "execute_result"
    }
   ],
   "source": [
    "os.listdir(TRAIN_LABEL_DATA_DIR)[5]"
   ]
  },
  {
   "cell_type": "code",
   "execution_count": 14,
   "id": "8f5db0c5",
   "metadata": {},
   "outputs": [
    {
     "data": {
      "text/plain": [
       "'V006_77_0_00_11_03_12_0_c01_20201013_0002_S01_1.txt'"
      ]
     },
     "execution_count": 14,
     "metadata": {},
     "output_type": "execute_result"
    }
   ],
   "source": [
    "os.listdir(TRAIN_LABEL_DATA_DIR)[5].split('.')[0]+'.'+os.listdir(TRAIN_LABEL_DATA_DIR)[5].split('.')[2]"
   ]
  },
  {
   "cell_type": "markdown",
   "id": "feb8b274",
   "metadata": {},
   "source": [
    "실제 실행 코드"
   ]
  },
  {
   "cell_type": "code",
   "execution_count": 18,
   "id": "3e3265d5",
   "metadata": {},
   "outputs": [],
   "source": [
    "file_list = os.listdir(TRAIN_LABEL_DATA_DIR)\n",
    "\n",
    "for i in range(len(file_list)):\n",
    "    try:\n",
    "        old_name = file_list[i]\n",
    "        new_name = old_name.split('.')[0] + '.' + old_name.split('.')[2]\n",
    "        os.rename(os.path.join(TRAIN_LABEL_DATA_DIR, old_name), os.path.join(TRAIN_LABEL_DATA_DIR, new_name))\n",
    "    except OSError as e:\n",
    "        print(\"파일명 변경에 실패했습니다. 예외 메시지:\", str(e), i)"
   ]
  },
  {
   "cell_type": "markdown",
   "id": "6bc47219",
   "metadata": {},
   "source": [
    "- valid"
   ]
  },
  {
   "cell_type": "markdown",
   "id": "b2bfdfaa",
   "metadata": {},
   "source": [
    "예시"
   ]
  },
  {
   "cell_type": "code",
   "execution_count": 19,
   "id": "19a3878b",
   "metadata": {},
   "outputs": [
    {
     "data": {
      "text/plain": [
       "'V006_77_0_00_11_03_13_0_c05_20201222_0003_S01_2.JPG.txt'"
      ]
     },
     "execution_count": 19,
     "metadata": {},
     "output_type": "execute_result"
    }
   ],
   "source": [
    "os.listdir(VALID_LABEL_DATA_DIR)[5]"
   ]
  },
  {
   "cell_type": "markdown",
   "id": "8362ed7e",
   "metadata": {},
   "source": [
    "실제 실행 코드"
   ]
  },
  {
   "cell_type": "code",
   "execution_count": 20,
   "id": "8427aa2c",
   "metadata": {},
   "outputs": [],
   "source": [
    "file_list = os.listdir(VALID_LABEL_DATA_DIR)\n",
    "\n",
    "for i in range(len(file_list)):\n",
    "    try:\n",
    "        old_name = file_list[i]\n",
    "        new_name = old_name.split('.')[0] + '.' + old_name.split('.')[2]\n",
    "        os.rename(os.path.join(VALID_LABEL_DATA_DIR, old_name), os.path.join(VALID_LABEL_DATA_DIR, new_name))\n",
    "    except OSError as e:\n",
    "        print(\"파일명 변경에 실패했습니다. 예외 메시지:\", str(e), i)"
   ]
  },
  {
   "cell_type": "markdown",
   "id": "fe6c4e5c",
   "metadata": {},
   "source": [
    "# YOLOv8"
   ]
  },
  {
   "cell_type": "code",
   "execution_count": 4,
   "id": "95af5a38",
   "metadata": {},
   "outputs": [],
   "source": [
    "import ultralytics"
   ]
  },
  {
   "cell_type": "code",
   "execution_count": 5,
   "id": "b00847d9",
   "metadata": {},
   "outputs": [
    {
     "name": "stderr",
     "output_type": "stream",
     "text": [
      "Ultralytics YOLOv8.0.117  Python-3.9.13 torch-2.0.1+cpu CPU\n",
      "Setup complete  (8 CPUs, 15.9 GB RAM, 227.2/298.1 GB disk)\n"
     ]
    }
   ],
   "source": [
    "ultralytics.checks()"
   ]
  },
  {
   "cell_type": "code",
   "execution_count": 6,
   "id": "0abcc39b",
   "metadata": {},
   "outputs": [],
   "source": [
    "from ultralytics import YOLO\n",
    "\n",
    "model = YOLO(\"yolov8n.pt\")"
   ]
  },
  {
   "cell_type": "markdown",
   "id": "2f37dc00",
   "metadata": {},
   "source": [
    "## YAML 파일 설정"
   ]
  },
  {
   "cell_type": "code",
   "execution_count": 7,
   "id": "26251d81",
   "metadata": {},
   "outputs": [
    {
     "name": "stdout",
     "output_type": "stream",
     "text": [
      "{'names': ['normal', 'early', 'mid', 'late'], 'nc': 4, 'train': 'E:/rawdata_disease_resize\\\\house\\\\train/images/', 'val': 'E:/rawdata_disease_resize\\\\house\\\\validation/images/'}\n",
      "{'names': ['normal', 'early', 'mid', 'late'], 'nc': 4, 'train': 'E:/rawdata_disease_resize\\\\house\\\\train/images/', 'val': 'E:/rawdata_disease_resize\\\\house\\\\validation/images/'}\n"
     ]
    }
   ],
   "source": [
    "import yaml\n",
    "\n",
    "with open(os.path.join(HOUSE_DATA_ROOT_DIR, 'data.yaml'), 'r') as f:\n",
    "    data = yaml.safe_load(f)\n",
    "    \n",
    "print(data)\n",
    "\n",
    "data['train'] = os.path.join(HOUSE_DATA_ROOT_DIR, 'train/images/')\n",
    "data['val'] = os.path.join(HOUSE_DATA_ROOT_DIR, 'validation/images/')\n",
    "\n",
    "data['nc'] = 4\n",
    "data['names'] = ['normal', 'early', 'mid', 'late']\n",
    "\n",
    "with open(os.path.join(HOUSE_DATA_ROOT_DIR, 'data.yaml'), 'w') as f:\n",
    "    yaml.dump(data, f)\n",
    "    \n",
    "print(data)"
   ]
  },
  {
   "cell_type": "code",
   "execution_count": 8,
   "id": "9ab5f1f0",
   "metadata": {},
   "outputs": [
    {
     "name": "stderr",
     "output_type": "stream",
     "text": [
      "New https://pypi.org/project/ultralytics/8.0.124 available  Update with 'pip install -U ultralytics'\n",
      "Ultralytics YOLOv8.0.117  Python-3.9.13 torch-2.0.1+cpu CPU\n",
      "\u001b[34m\u001b[1myolo\\engine\\trainer: \u001b[0mtask=detect, mode=train, model=yolov8n.pt, data=E:/rawdata_disease_resize/house/data.yaml, epochs=2, patience=4, batch=32, imgsz=416, save=True, save_period=-1, cache=False, device=None, workers=8, project=None, name=None, exist_ok=False, pretrained=False, optimizer=auto, verbose=True, seed=0, deterministic=True, single_cls=False, rect=False, cos_lr=False, close_mosaic=0, resume=False, amp=True, fraction=1.0, profile=False, overlap_mask=True, mask_ratio=4, dropout=0.0, val=True, split=val, save_json=False, save_hybrid=False, conf=None, iou=0.7, max_det=300, half=False, dnn=False, plots=True, source=None, show=False, save_txt=False, save_conf=False, save_crop=False, show_labels=True, show_conf=True, vid_stride=1, line_width=None, visualize=False, augment=False, agnostic_nms=False, classes=None, retina_masks=False, boxes=True, format=torchscript, keras=False, optimize=False, int8=False, dynamic=False, simplify=False, opset=None, workspace=4, nms=False, lr0=0.01, lrf=0.01, momentum=0.937, weight_decay=0.0005, warmup_epochs=3.0, warmup_momentum=0.8, warmup_bias_lr=0.1, box=7.5, cls=0.5, dfl=1.5, pose=12.0, kobj=1.0, label_smoothing=0.0, nbs=64, hsv_h=0.015, hsv_s=0.7, hsv_v=0.4, degrees=0.0, translate=0.1, scale=0.5, shear=0.0, perspective=0.0, flipud=0.0, fliplr=0.5, mosaic=1.0, mixup=0.0, copy_paste=0.0, cfg=None, v5loader=False, tracker=botsort.yaml, save_dir=runs\\detect\\train11\n"
     ]
    },
    {
     "name": "stdout",
     "output_type": "stream",
     "text": [
      "Start Training : 2023-06-30 11:04:53.148935\n"
     ]
    },
    {
     "name": "stderr",
     "output_type": "stream",
     "text": [
      "Overriding model.yaml nc=80 with nc=4\n",
      "\n",
      "                   from  n    params  module                                       arguments                     \n",
      "  0                  -1  1       464  ultralytics.nn.modules.conv.Conv             [3, 16, 3, 2]                 \n",
      "  1                  -1  1      4672  ultralytics.nn.modules.conv.Conv             [16, 32, 3, 2]                \n",
      "  2                  -1  1      7360  ultralytics.nn.modules.block.C2f             [32, 32, 1, True]             \n",
      "  3                  -1  1     18560  ultralytics.nn.modules.conv.Conv             [32, 64, 3, 2]                \n",
      "  4                  -1  2     49664  ultralytics.nn.modules.block.C2f             [64, 64, 2, True]             \n",
      "  5                  -1  1     73984  ultralytics.nn.modules.conv.Conv             [64, 128, 3, 2]               \n",
      "  6                  -1  2    197632  ultralytics.nn.modules.block.C2f             [128, 128, 2, True]           \n",
      "  7                  -1  1    295424  ultralytics.nn.modules.conv.Conv             [128, 256, 3, 2]              \n",
      "  8                  -1  1    460288  ultralytics.nn.modules.block.C2f             [256, 256, 1, True]           \n",
      "  9                  -1  1    164608  ultralytics.nn.modules.block.SPPF            [256, 256, 5]                 \n",
      " 10                  -1  1         0  torch.nn.modules.upsampling.Upsample         [None, 2, 'nearest']          \n",
      " 11             [-1, 6]  1         0  ultralytics.nn.modules.conv.Concat           [1]                           \n",
      " 12                  -1  1    148224  ultralytics.nn.modules.block.C2f             [384, 128, 1]                 \n",
      " 13                  -1  1         0  torch.nn.modules.upsampling.Upsample         [None, 2, 'nearest']          \n",
      " 14             [-1, 4]  1         0  ultralytics.nn.modules.conv.Concat           [1]                           \n",
      " 15                  -1  1     37248  ultralytics.nn.modules.block.C2f             [192, 64, 1]                  \n",
      " 16                  -1  1     36992  ultralytics.nn.modules.conv.Conv             [64, 64, 3, 2]                \n",
      " 17            [-1, 12]  1         0  ultralytics.nn.modules.conv.Concat           [1]                           \n",
      " 18                  -1  1    123648  ultralytics.nn.modules.block.C2f             [192, 128, 1]                 \n",
      " 19                  -1  1    147712  ultralytics.nn.modules.conv.Conv             [128, 128, 3, 2]              \n",
      " 20             [-1, 9]  1         0  ultralytics.nn.modules.conv.Concat           [1]                           \n",
      " 21                  -1  1    493056  ultralytics.nn.modules.block.C2f             [384, 256, 1]                 \n",
      " 22        [15, 18, 21]  1    752092  ultralytics.nn.modules.head.Detect           [4, [64, 128, 256]]           \n",
      "Model summary: 225 layers, 3011628 parameters, 3011612 gradients, 8.2 GFLOPs\n",
      "\n",
      "Transferred 319/355 items from pretrained weights\n",
      "\u001b[34m\u001b[1mTensorBoard: \u001b[0mStart with 'tensorboard --logdir runs\\detect\\train11', view at http://localhost:6006/\n",
      "\u001b[34m\u001b[1mtrain: \u001b[0mScanning E:\\rawdata_disease_resize\\house\\train\\labels... 23502 images, 0 backgrounds, 0 corrupt: 100%|██████████\u001b[0m\n",
      "\u001b[34m\u001b[1mtrain: \u001b[0mNew cache created: E:\\rawdata_disease_resize\\house\\train\\labels.cache\n",
      "\u001b[34m\u001b[1mval: \u001b[0mScanning E:\\rawdata_disease_resize\\house\\validation\\labels... 4698 images, 0 backgrounds, 0 corrupt: 100%|████████\u001b[0m\n",
      "\u001b[34m\u001b[1mval: \u001b[0mNew cache created: E:\\rawdata_disease_resize\\house\\validation\\labels.cache\n",
      "Plotting labels to runs\\detect\\train11\\labels.jpg... \n",
      "\u001b[34m\u001b[1moptimizer:\u001b[0m AdamW(lr=0.00125, momentum=0.9) with parameter groups 57 weight(decay=0.0), 64 weight(decay=0.0005), 63 bias(decay=0.0)\n",
      "Image sizes 416 train, 416 val\n",
      "Using 0 dataloader workers\n",
      "Logging results to \u001b[1mruns\\detect\\train11\u001b[0m\n",
      "Starting training for 2 epochs...\n",
      "\n",
      "      Epoch    GPU_mem   box_loss   cls_loss   dfl_loss  Instances       Size\n",
      "        1/2         0G     0.9899      1.896      1.252         24        416: 100%|██████████| 735/735 [1:16:18<00:00,\n",
      "                 Class     Images  Instances      Box(P          R      mAP50  mAP50-95): 100%|██████████| 74/74 [07:07\n",
      "                   all       4698       4698       0.47      0.598      0.515      0.391\n",
      "\n",
      "      Epoch    GPU_mem   box_loss   cls_loss   dfl_loss  Instances       Size\n",
      "        2/2         0G     0.9119      1.358      1.188         34        416: 100%|██████████| 735/735 [1:14:23<00:00,\n",
      "                 Class     Images  Instances      Box(P          R      mAP50  mAP50-95): 100%|██████████| 74/74 [06:56\n",
      "                   all       4698       4698      0.583      0.698      0.637      0.512\n",
      "\n",
      "2 epochs completed in 2.749 hours.\n",
      "Optimizer stripped from runs\\detect\\train11\\weights\\last.pt, 6.2MB\n",
      "Optimizer stripped from runs\\detect\\train11\\weights\\best.pt, 6.2MB\n",
      "\n",
      "Validating runs\\detect\\train11\\weights\\best.pt...\n",
      "Ultralytics YOLOv8.0.117  Python-3.9.13 torch-2.0.1+cpu CPU\n",
      "Model summary (fused): 168 layers, 3006428 parameters, 0 gradients, 8.1 GFLOPs\n",
      "                 Class     Images  Instances      Box(P          R      mAP50  mAP50-95): 100%|██████████| 74/74 [04:20\n",
      "                   all       4698       4698      0.583      0.698      0.637      0.512\n",
      "                normal       4698       1888      0.959      0.992      0.994      0.942\n",
      "                 early       4698        990      0.462       0.76      0.665      0.507\n",
      "                   mid       4698       1370      0.373      0.824       0.54      0.385\n",
      "                  late       4698        450      0.536      0.215      0.348      0.214\n",
      "Speed: 0.6ms preprocess, 37.0ms inference, 0.0ms loss, 0.5ms postprocess per image\n",
      "Results saved to \u001b[1mruns\\detect\\train11\u001b[0m\n"
     ]
    },
    {
     "name": "stdout",
     "output_type": "stream",
     "text": [
      "End of Training : 2023-06-30 14:03:47.922043\n",
      "\n",
      "Time taken : 2:58:54.773108\n"
     ]
    }
   ],
   "source": [
    "start_time = datetime.now()\n",
    "print(\"Start Training :\", start_time)\n",
    "##########\n",
    "\n",
    "\n",
    "model.train(data=\"E:/rawdata_disease_resize/house/data.yaml\",\n",
    "            epochs=40, patience=4,\n",
    "            batch=32, imgsz=416)\n",
    "\n",
    "\n",
    "##########\n",
    "end_time = datetime.now()\n",
    "print(\"End of Training :\", end_time)\n",
    "print(\"\\nTime taken :\", end_time-start_time)"
   ]
  },
  {
   "cell_type": "code",
   "execution_count": null,
   "id": "eb35e408",
   "metadata": {},
   "outputs": [],
   "source": [
    "model.save('/content/disease_risk.h5')"
   ]
  },
  {
   "cell_type": "code",
   "execution_count": null,
   "id": "4205749d",
   "metadata": {},
   "outputs": [],
   "source": [
    "from torch.serialization import save\n",
    "results = model.predict(source=os.path.join(ROOT_DIR, 'house/test/images'), save=True)"
   ]
  }
 ],
 "metadata": {
  "kernelspec": {
   "display_name": "Python 3 (ipykernel)",
   "language": "python",
   "name": "python3"
  },
  "language_info": {
   "codemirror_mode": {
    "name": "ipython",
    "version": 3
   },
   "file_extension": ".py",
   "mimetype": "text/x-python",
   "name": "python",
   "nbconvert_exporter": "python",
   "pygments_lexer": "ipython3",
   "version": "3.10.9"
  }
 },
 "nbformat": 4,
 "nbformat_minor": 5
}
