{
 "cells": [
  {
   "cell_type": "code",
   "execution_count": 2,
   "id": "c9be85db",
   "metadata": {},
   "outputs": [],
   "source": [
    "import numpy as np\n",
    "import pandas as pd\n",
    "import matplotlib.pyplot as plt\n",
    "import seaborn as sns\n",
    "\n",
    "import tensorflow as tf\n",
    "from tensorflow.keras.models import Sequential, load_model, Model\n",
    "from tensorflow.keras.layers import Dense, Flatten, Input, Concatenate, concatenate,Dropout\n",
    "from tensorflow.keras.layers import Conv2D, MaxPooling2D,GlobalAveragePooling2D\n",
    "from tensorflow.keras.optimizers import SGD, Adam, RMSprop\n",
    "from tensorflow.keras.preprocessing.image import ImageDataGenerator\n",
    "from tensorflow.keras.callbacks import EarlyStopping\n",
    "\n",
    "\n",
    "from sklearn.model_selection import train_test_split\n",
    "from sklearn.preprocessing import MinMaxScaler, StandardScaler\n",
    "from sklearn.metrics import accuracy_score\n",
    "\n",
    "from sklearn.preprocessing import LabelEncoder\n",
    "from tqdm.keras import TqdmCallback\n",
    "import tensorflow.keras.utils as utils\n",
    "from datetime import datetime\n",
    "\n",
    "import cv2\n",
    "import zipfile\n",
    "import shutil\n",
    "import os\n",
    "import glob\n",
    "\n",
    "from tensorflow.keras.applications import Xception, InceptionV3, MobileNet, ResNet50\n",
    "\n",
    "import random\n",
    "import os\n",
    "from tqdm import tqdm\n",
    "\n",
    "from ultralytics import YOLO"
   ]
  },
  {
   "cell_type": "code",
   "execution_count": null,
   "id": "7463ec3d",
   "metadata": {},
   "outputs": [
    {
     "name": "stderr",
     "output_type": "stream",
     "text": [
      "\n",
      "\n",
      "  0%|                                                                                           | 0/21 [06:53<?, ?it/s]\u001b[A\u001b[A\n",
      "  0%|                                                                                           | 0/20 [04:54<?, ?it/s]\n"
     ]
    }
   ],
   "source": [
    "import os\n",
    "import json\n",
    "from tqdm import tqdm\n",
    "\n",
    "root_dir=\"D:\\\\097.지능형 스마트팜 통합 데이터(토마토)\\\\01.데이터\\\\1.Training\"\n",
    "\n",
    "# Directory where your json files are stored\n",
    "json_root_dir = os.path.join(root_dir,\"라벨링데이터\")\n",
    "\n",
    "# Directory where to save txt files\n",
    "parent_dir = os.path.dirname(root_dir)\n",
    "txt_dir = os.path.join(parent_dir,\"text\")\n",
    "os.makedirs(txt_dir,exist_ok=True)\n",
    "\n",
    "# Get list of json directories\n",
    "json_dirs = os.listdir(json_root_dir)\n",
    "\n",
    "# Start progress bar\n",
    "pbar = tqdm(total=len(json_dirs))\n",
    "\n",
    "for json_dir in json_dirs:\n",
    "    folder_path=os.path.join(json_root_dir,json_dir)\n",
    "    folder, file_extension = os.path.splitext(folder_path)\n",
    "    if file_extension != \".zip\":\n",
    "        for json_file in os.listdir(folder_path):\n",
    "            #Open json file\n",
    "            with open(os.path.join(json_root_dir,json_dir, json_file)) as f:\n",
    "                data = json.load(f)\n",
    "                # Create corresponding txt file\n",
    "                txt_path=os.path.join(txt_dir,json_dir)\n",
    "                os.makedirs(txt_path,exist_ok=True)\n",
    "                file_name=os.path.splitext(json_file)[0]\n",
    "                txt_file = open(os.path.join(txt_path,file_name + '.txt'), 'w')\n",
    "\n",
    "                # Convert json annotations to yolo format and write to txt file\n",
    "                for shape in data['shapes']:\n",
    "                    # Convert coordinates\n",
    "                    x_center = (shape['points'][0][0] + shape['points'][1][0]) / 2.0 / data['imageWidth']\n",
    "                    y_center = (shape['points'][0][1] + shape['points'][1][1]) / 2.0 / data['imageHeight']\n",
    "                    width = abs(shape['points'][1][0] - shape['points'][0][0]) / data['imageWidth']\n",
    "                    height = abs(shape['points'][1][1] - shape['points'][0][1]) / data['imageHeight']\n",
    "\n",
    "                    # Write to file\n",
    "                    # Assuming labels 'tom_growth_bb' and 'tom_flower_stem_bb' map to class ids 0 and 1 respectively\n",
    "                    class_id = 0 if shape['label'] == 'tom_growth_bb' else 1\n",
    "                    txt_file.write(f'{class_id} {x_center} {y_center} {width} {height}\\n')\n",
    "\n",
    "                # If growth indicators exist, write them to the txt file as well\n",
    "                if 'growth_indicators' in data:\n",
    "                    for indicator, value in data['growth_indicators'].items():\n",
    "                        txt_file.write(f'{indicator}: {value}\\n')\n",
    "\n",
    "                txt_file.close()\n",
    "\n",
    "    # Update progress bar\n",
    "    pbar.update(1)\n",
    "\n",
    "# Close progress bar\n",
    "pbar.close()"
   ]
  },
  {
   "cell_type": "code",
   "execution_count": 10,
   "id": "a5626fe0",
   "metadata": {},
   "outputs": [
    {
     "name": "stdout",
     "output_type": "stream",
     "text": [
      "\n"
     ]
    }
   ],
   "source": [
    "print(jso)"
   ]
  },
  {
   "cell_type": "code",
   "execution_count": null,
   "id": "7b2d3e77",
   "metadata": {},
   "outputs": [],
   "source": [
    "model=YOLO(\"yolov8n.pt\")"
   ]
  }
 ],
 "metadata": {
  "kernelspec": {
   "display_name": "Python 3 (ipykernel)",
   "language": "python",
   "name": "python3"
  },
  "language_info": {
   "codemirror_mode": {
    "name": "ipython",
    "version": 3
   },
   "file_extension": ".py",
   "mimetype": "text/x-python",
   "name": "python",
   "nbconvert_exporter": "python",
   "pygments_lexer": "ipython3",
   "version": "3.9.13"
  }
 },
 "nbformat": 4,
 "nbformat_minor": 5
}
